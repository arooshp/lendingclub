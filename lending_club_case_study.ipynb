{
 "cells": [
  {
   "cell_type": "code",
   "execution_count": 1,
   "metadata": {
    "pycharm": {
     "name": "#%%\n"
    }
   },
   "outputs": [],
   "source": [
    "import pandas as pd\n",
    "import numpy as np\n",
    "import seaborn as sns\n",
    "import matplotlib.pyplot as plt\n",
    "%matplotlib inline\n",
    "import warnings\n",
    "warnings.filterwarnings('ignore')"
   ]
  },
  {
   "cell_type": "code",
   "execution_count": 2,
   "metadata": {
    "pycharm": {
     "name": "#%%\n"
    }
   },
   "outputs": [
    {
     "data": {
      "text/html": [
       "<div>\n",
       "<style scoped>\n",
       "    .dataframe tbody tr th:only-of-type {\n",
       "        vertical-align: middle;\n",
       "    }\n",
       "\n",
       "    .dataframe tbody tr th {\n",
       "        vertical-align: top;\n",
       "    }\n",
       "\n",
       "    .dataframe thead th {\n",
       "        text-align: right;\n",
       "    }\n",
       "</style>\n",
       "<table border=\"1\" class=\"dataframe\">\n",
       "  <thead>\n",
       "    <tr style=\"text-align: right;\">\n",
       "      <th></th>\n",
       "      <th>id</th>\n",
       "      <th>member_id</th>\n",
       "      <th>loan_amnt</th>\n",
       "      <th>funded_amnt</th>\n",
       "      <th>funded_amnt_inv</th>\n",
       "      <th>term</th>\n",
       "      <th>int_rate</th>\n",
       "      <th>installment</th>\n",
       "      <th>grade</th>\n",
       "      <th>sub_grade</th>\n",
       "      <th>...</th>\n",
       "      <th>num_tl_90g_dpd_24m</th>\n",
       "      <th>num_tl_op_past_12m</th>\n",
       "      <th>pct_tl_nvr_dlq</th>\n",
       "      <th>percent_bc_gt_75</th>\n",
       "      <th>pub_rec_bankruptcies</th>\n",
       "      <th>tax_liens</th>\n",
       "      <th>tot_hi_cred_lim</th>\n",
       "      <th>total_bal_ex_mort</th>\n",
       "      <th>total_bc_limit</th>\n",
       "      <th>total_il_high_credit_limit</th>\n",
       "    </tr>\n",
       "  </thead>\n",
       "  <tbody>\n",
       "    <tr>\n",
       "      <th>0</th>\n",
       "      <td>1077501</td>\n",
       "      <td>1296599</td>\n",
       "      <td>5000</td>\n",
       "      <td>5000</td>\n",
       "      <td>4975.0</td>\n",
       "      <td>36 months</td>\n",
       "      <td>10.65%</td>\n",
       "      <td>162.87</td>\n",
       "      <td>B</td>\n",
       "      <td>B2</td>\n",
       "      <td>...</td>\n",
       "      <td>NaN</td>\n",
       "      <td>NaN</td>\n",
       "      <td>NaN</td>\n",
       "      <td>NaN</td>\n",
       "      <td>0.0</td>\n",
       "      <td>0.0</td>\n",
       "      <td>NaN</td>\n",
       "      <td>NaN</td>\n",
       "      <td>NaN</td>\n",
       "      <td>NaN</td>\n",
       "    </tr>\n",
       "    <tr>\n",
       "      <th>1</th>\n",
       "      <td>1077430</td>\n",
       "      <td>1314167</td>\n",
       "      <td>2500</td>\n",
       "      <td>2500</td>\n",
       "      <td>2500.0</td>\n",
       "      <td>60 months</td>\n",
       "      <td>15.27%</td>\n",
       "      <td>59.83</td>\n",
       "      <td>C</td>\n",
       "      <td>C4</td>\n",
       "      <td>...</td>\n",
       "      <td>NaN</td>\n",
       "      <td>NaN</td>\n",
       "      <td>NaN</td>\n",
       "      <td>NaN</td>\n",
       "      <td>0.0</td>\n",
       "      <td>0.0</td>\n",
       "      <td>NaN</td>\n",
       "      <td>NaN</td>\n",
       "      <td>NaN</td>\n",
       "      <td>NaN</td>\n",
       "    </tr>\n",
       "    <tr>\n",
       "      <th>2</th>\n",
       "      <td>1077175</td>\n",
       "      <td>1313524</td>\n",
       "      <td>2400</td>\n",
       "      <td>2400</td>\n",
       "      <td>2400.0</td>\n",
       "      <td>36 months</td>\n",
       "      <td>15.96%</td>\n",
       "      <td>84.33</td>\n",
       "      <td>C</td>\n",
       "      <td>C5</td>\n",
       "      <td>...</td>\n",
       "      <td>NaN</td>\n",
       "      <td>NaN</td>\n",
       "      <td>NaN</td>\n",
       "      <td>NaN</td>\n",
       "      <td>0.0</td>\n",
       "      <td>0.0</td>\n",
       "      <td>NaN</td>\n",
       "      <td>NaN</td>\n",
       "      <td>NaN</td>\n",
       "      <td>NaN</td>\n",
       "    </tr>\n",
       "    <tr>\n",
       "      <th>3</th>\n",
       "      <td>1076863</td>\n",
       "      <td>1277178</td>\n",
       "      <td>10000</td>\n",
       "      <td>10000</td>\n",
       "      <td>10000.0</td>\n",
       "      <td>36 months</td>\n",
       "      <td>13.49%</td>\n",
       "      <td>339.31</td>\n",
       "      <td>C</td>\n",
       "      <td>C1</td>\n",
       "      <td>...</td>\n",
       "      <td>NaN</td>\n",
       "      <td>NaN</td>\n",
       "      <td>NaN</td>\n",
       "      <td>NaN</td>\n",
       "      <td>0.0</td>\n",
       "      <td>0.0</td>\n",
       "      <td>NaN</td>\n",
       "      <td>NaN</td>\n",
       "      <td>NaN</td>\n",
       "      <td>NaN</td>\n",
       "    </tr>\n",
       "    <tr>\n",
       "      <th>4</th>\n",
       "      <td>1075358</td>\n",
       "      <td>1311748</td>\n",
       "      <td>3000</td>\n",
       "      <td>3000</td>\n",
       "      <td>3000.0</td>\n",
       "      <td>60 months</td>\n",
       "      <td>12.69%</td>\n",
       "      <td>67.79</td>\n",
       "      <td>B</td>\n",
       "      <td>B5</td>\n",
       "      <td>...</td>\n",
       "      <td>NaN</td>\n",
       "      <td>NaN</td>\n",
       "      <td>NaN</td>\n",
       "      <td>NaN</td>\n",
       "      <td>0.0</td>\n",
       "      <td>0.0</td>\n",
       "      <td>NaN</td>\n",
       "      <td>NaN</td>\n",
       "      <td>NaN</td>\n",
       "      <td>NaN</td>\n",
       "    </tr>\n",
       "  </tbody>\n",
       "</table>\n",
       "<p>5 rows × 111 columns</p>\n",
       "</div>"
      ],
      "text/plain": [
       "        id  member_id  loan_amnt  funded_amnt  funded_amnt_inv        term  \\\n",
       "0  1077501    1296599       5000         5000           4975.0   36 months   \n",
       "1  1077430    1314167       2500         2500           2500.0   60 months   \n",
       "2  1077175    1313524       2400         2400           2400.0   36 months   \n",
       "3  1076863    1277178      10000        10000          10000.0   36 months   \n",
       "4  1075358    1311748       3000         3000           3000.0   60 months   \n",
       "\n",
       "  int_rate  installment grade sub_grade  ... num_tl_90g_dpd_24m  \\\n",
       "0   10.65%       162.87     B        B2  ...                NaN   \n",
       "1   15.27%        59.83     C        C4  ...                NaN   \n",
       "2   15.96%        84.33     C        C5  ...                NaN   \n",
       "3   13.49%       339.31     C        C1  ...                NaN   \n",
       "4   12.69%        67.79     B        B5  ...                NaN   \n",
       "\n",
       "  num_tl_op_past_12m pct_tl_nvr_dlq  percent_bc_gt_75 pub_rec_bankruptcies  \\\n",
       "0                NaN            NaN               NaN                  0.0   \n",
       "1                NaN            NaN               NaN                  0.0   \n",
       "2                NaN            NaN               NaN                  0.0   \n",
       "3                NaN            NaN               NaN                  0.0   \n",
       "4                NaN            NaN               NaN                  0.0   \n",
       "\n",
       "  tax_liens tot_hi_cred_lim total_bal_ex_mort total_bc_limit  \\\n",
       "0       0.0             NaN               NaN            NaN   \n",
       "1       0.0             NaN               NaN            NaN   \n",
       "2       0.0             NaN               NaN            NaN   \n",
       "3       0.0             NaN               NaN            NaN   \n",
       "4       0.0             NaN               NaN            NaN   \n",
       "\n",
       "  total_il_high_credit_limit  \n",
       "0                        NaN  \n",
       "1                        NaN  \n",
       "2                        NaN  \n",
       "3                        NaN  \n",
       "4                        NaN  \n",
       "\n",
       "[5 rows x 111 columns]"
      ]
     },
     "execution_count": 2,
     "metadata": {},
     "output_type": "execute_result"
    }
   ],
   "source": [
    "df = pd.read_csv(\"loan.csv\", low_memory=False)\n",
    "df.head(5)"
   ]
  },
  {
   "cell_type": "code",
   "execution_count": 3,
   "metadata": {},
   "outputs": [
    {
     "name": "stdout",
     "output_type": "stream",
     "text": [
      "<class 'pandas.core.frame.DataFrame'>\n",
      "RangeIndex: 39717 entries, 0 to 39716\n",
      "Columns: 111 entries, id to total_il_high_credit_limit\n",
      "dtypes: float64(74), int64(13), object(24)\n",
      "memory usage: 33.6+ MB\n"
     ]
    }
   ],
   "source": [
    "df.info()"
   ]
  },
  {
   "cell_type": "code",
   "execution_count": 4,
   "metadata": {},
   "outputs": [
    {
     "data": {
      "text/html": [
       "<div>\n",
       "<style scoped>\n",
       "    .dataframe tbody tr th:only-of-type {\n",
       "        vertical-align: middle;\n",
       "    }\n",
       "\n",
       "    .dataframe tbody tr th {\n",
       "        vertical-align: top;\n",
       "    }\n",
       "\n",
       "    .dataframe thead th {\n",
       "        text-align: right;\n",
       "    }\n",
       "</style>\n",
       "<table border=\"1\" class=\"dataframe\">\n",
       "  <thead>\n",
       "    <tr style=\"text-align: right;\">\n",
       "      <th></th>\n",
       "      <th>id</th>\n",
       "      <th>member_id</th>\n",
       "      <th>loan_amnt</th>\n",
       "      <th>funded_amnt</th>\n",
       "      <th>funded_amnt_inv</th>\n",
       "      <th>installment</th>\n",
       "      <th>annual_inc</th>\n",
       "      <th>dti</th>\n",
       "      <th>delinq_2yrs</th>\n",
       "      <th>inq_last_6mths</th>\n",
       "      <th>...</th>\n",
       "      <th>num_tl_90g_dpd_24m</th>\n",
       "      <th>num_tl_op_past_12m</th>\n",
       "      <th>pct_tl_nvr_dlq</th>\n",
       "      <th>percent_bc_gt_75</th>\n",
       "      <th>pub_rec_bankruptcies</th>\n",
       "      <th>tax_liens</th>\n",
       "      <th>tot_hi_cred_lim</th>\n",
       "      <th>total_bal_ex_mort</th>\n",
       "      <th>total_bc_limit</th>\n",
       "      <th>total_il_high_credit_limit</th>\n",
       "    </tr>\n",
       "  </thead>\n",
       "  <tbody>\n",
       "    <tr>\n",
       "      <th>count</th>\n",
       "      <td>3.971700e+04</td>\n",
       "      <td>3.971700e+04</td>\n",
       "      <td>39717.000000</td>\n",
       "      <td>39717.000000</td>\n",
       "      <td>39717.000000</td>\n",
       "      <td>39717.000000</td>\n",
       "      <td>3.971700e+04</td>\n",
       "      <td>39717.000000</td>\n",
       "      <td>39717.000000</td>\n",
       "      <td>39717.000000</td>\n",
       "      <td>...</td>\n",
       "      <td>0.0</td>\n",
       "      <td>0.0</td>\n",
       "      <td>0.0</td>\n",
       "      <td>0.0</td>\n",
       "      <td>39020.000000</td>\n",
       "      <td>39678.0</td>\n",
       "      <td>0.0</td>\n",
       "      <td>0.0</td>\n",
       "      <td>0.0</td>\n",
       "      <td>0.0</td>\n",
       "    </tr>\n",
       "    <tr>\n",
       "      <th>mean</th>\n",
       "      <td>6.831319e+05</td>\n",
       "      <td>8.504636e+05</td>\n",
       "      <td>11219.443815</td>\n",
       "      <td>10947.713196</td>\n",
       "      <td>10397.448868</td>\n",
       "      <td>324.561922</td>\n",
       "      <td>6.896893e+04</td>\n",
       "      <td>13.315130</td>\n",
       "      <td>0.146512</td>\n",
       "      <td>0.869200</td>\n",
       "      <td>...</td>\n",
       "      <td>NaN</td>\n",
       "      <td>NaN</td>\n",
       "      <td>NaN</td>\n",
       "      <td>NaN</td>\n",
       "      <td>0.043260</td>\n",
       "      <td>0.0</td>\n",
       "      <td>NaN</td>\n",
       "      <td>NaN</td>\n",
       "      <td>NaN</td>\n",
       "      <td>NaN</td>\n",
       "    </tr>\n",
       "    <tr>\n",
       "      <th>std</th>\n",
       "      <td>2.106941e+05</td>\n",
       "      <td>2.656783e+05</td>\n",
       "      <td>7456.670694</td>\n",
       "      <td>7187.238670</td>\n",
       "      <td>7128.450439</td>\n",
       "      <td>208.874874</td>\n",
       "      <td>6.379377e+04</td>\n",
       "      <td>6.678594</td>\n",
       "      <td>0.491812</td>\n",
       "      <td>1.070219</td>\n",
       "      <td>...</td>\n",
       "      <td>NaN</td>\n",
       "      <td>NaN</td>\n",
       "      <td>NaN</td>\n",
       "      <td>NaN</td>\n",
       "      <td>0.204324</td>\n",
       "      <td>0.0</td>\n",
       "      <td>NaN</td>\n",
       "      <td>NaN</td>\n",
       "      <td>NaN</td>\n",
       "      <td>NaN</td>\n",
       "    </tr>\n",
       "    <tr>\n",
       "      <th>min</th>\n",
       "      <td>5.473400e+04</td>\n",
       "      <td>7.069900e+04</td>\n",
       "      <td>500.000000</td>\n",
       "      <td>500.000000</td>\n",
       "      <td>0.000000</td>\n",
       "      <td>15.690000</td>\n",
       "      <td>4.000000e+03</td>\n",
       "      <td>0.000000</td>\n",
       "      <td>0.000000</td>\n",
       "      <td>0.000000</td>\n",
       "      <td>...</td>\n",
       "      <td>NaN</td>\n",
       "      <td>NaN</td>\n",
       "      <td>NaN</td>\n",
       "      <td>NaN</td>\n",
       "      <td>0.000000</td>\n",
       "      <td>0.0</td>\n",
       "      <td>NaN</td>\n",
       "      <td>NaN</td>\n",
       "      <td>NaN</td>\n",
       "      <td>NaN</td>\n",
       "    </tr>\n",
       "    <tr>\n",
       "      <th>25%</th>\n",
       "      <td>5.162210e+05</td>\n",
       "      <td>6.667800e+05</td>\n",
       "      <td>5500.000000</td>\n",
       "      <td>5400.000000</td>\n",
       "      <td>5000.000000</td>\n",
       "      <td>167.020000</td>\n",
       "      <td>4.040400e+04</td>\n",
       "      <td>8.170000</td>\n",
       "      <td>0.000000</td>\n",
       "      <td>0.000000</td>\n",
       "      <td>...</td>\n",
       "      <td>NaN</td>\n",
       "      <td>NaN</td>\n",
       "      <td>NaN</td>\n",
       "      <td>NaN</td>\n",
       "      <td>0.000000</td>\n",
       "      <td>0.0</td>\n",
       "      <td>NaN</td>\n",
       "      <td>NaN</td>\n",
       "      <td>NaN</td>\n",
       "      <td>NaN</td>\n",
       "    </tr>\n",
       "    <tr>\n",
       "      <th>50%</th>\n",
       "      <td>6.656650e+05</td>\n",
       "      <td>8.508120e+05</td>\n",
       "      <td>10000.000000</td>\n",
       "      <td>9600.000000</td>\n",
       "      <td>8975.000000</td>\n",
       "      <td>280.220000</td>\n",
       "      <td>5.900000e+04</td>\n",
       "      <td>13.400000</td>\n",
       "      <td>0.000000</td>\n",
       "      <td>1.000000</td>\n",
       "      <td>...</td>\n",
       "      <td>NaN</td>\n",
       "      <td>NaN</td>\n",
       "      <td>NaN</td>\n",
       "      <td>NaN</td>\n",
       "      <td>0.000000</td>\n",
       "      <td>0.0</td>\n",
       "      <td>NaN</td>\n",
       "      <td>NaN</td>\n",
       "      <td>NaN</td>\n",
       "      <td>NaN</td>\n",
       "    </tr>\n",
       "    <tr>\n",
       "      <th>75%</th>\n",
       "      <td>8.377550e+05</td>\n",
       "      <td>1.047339e+06</td>\n",
       "      <td>15000.000000</td>\n",
       "      <td>15000.000000</td>\n",
       "      <td>14400.000000</td>\n",
       "      <td>430.780000</td>\n",
       "      <td>8.230000e+04</td>\n",
       "      <td>18.600000</td>\n",
       "      <td>0.000000</td>\n",
       "      <td>1.000000</td>\n",
       "      <td>...</td>\n",
       "      <td>NaN</td>\n",
       "      <td>NaN</td>\n",
       "      <td>NaN</td>\n",
       "      <td>NaN</td>\n",
       "      <td>0.000000</td>\n",
       "      <td>0.0</td>\n",
       "      <td>NaN</td>\n",
       "      <td>NaN</td>\n",
       "      <td>NaN</td>\n",
       "      <td>NaN</td>\n",
       "    </tr>\n",
       "    <tr>\n",
       "      <th>max</th>\n",
       "      <td>1.077501e+06</td>\n",
       "      <td>1.314167e+06</td>\n",
       "      <td>35000.000000</td>\n",
       "      <td>35000.000000</td>\n",
       "      <td>35000.000000</td>\n",
       "      <td>1305.190000</td>\n",
       "      <td>6.000000e+06</td>\n",
       "      <td>29.990000</td>\n",
       "      <td>11.000000</td>\n",
       "      <td>8.000000</td>\n",
       "      <td>...</td>\n",
       "      <td>NaN</td>\n",
       "      <td>NaN</td>\n",
       "      <td>NaN</td>\n",
       "      <td>NaN</td>\n",
       "      <td>2.000000</td>\n",
       "      <td>0.0</td>\n",
       "      <td>NaN</td>\n",
       "      <td>NaN</td>\n",
       "      <td>NaN</td>\n",
       "      <td>NaN</td>\n",
       "    </tr>\n",
       "  </tbody>\n",
       "</table>\n",
       "<p>8 rows × 87 columns</p>\n",
       "</div>"
      ],
      "text/plain": [
       "                 id     member_id     loan_amnt   funded_amnt  \\\n",
       "count  3.971700e+04  3.971700e+04  39717.000000  39717.000000   \n",
       "mean   6.831319e+05  8.504636e+05  11219.443815  10947.713196   \n",
       "std    2.106941e+05  2.656783e+05   7456.670694   7187.238670   \n",
       "min    5.473400e+04  7.069900e+04    500.000000    500.000000   \n",
       "25%    5.162210e+05  6.667800e+05   5500.000000   5400.000000   \n",
       "50%    6.656650e+05  8.508120e+05  10000.000000   9600.000000   \n",
       "75%    8.377550e+05  1.047339e+06  15000.000000  15000.000000   \n",
       "max    1.077501e+06  1.314167e+06  35000.000000  35000.000000   \n",
       "\n",
       "       funded_amnt_inv   installment    annual_inc           dti  \\\n",
       "count     39717.000000  39717.000000  3.971700e+04  39717.000000   \n",
       "mean      10397.448868    324.561922  6.896893e+04     13.315130   \n",
       "std        7128.450439    208.874874  6.379377e+04      6.678594   \n",
       "min           0.000000     15.690000  4.000000e+03      0.000000   \n",
       "25%        5000.000000    167.020000  4.040400e+04      8.170000   \n",
       "50%        8975.000000    280.220000  5.900000e+04     13.400000   \n",
       "75%       14400.000000    430.780000  8.230000e+04     18.600000   \n",
       "max       35000.000000   1305.190000  6.000000e+06     29.990000   \n",
       "\n",
       "        delinq_2yrs  inq_last_6mths  ...  num_tl_90g_dpd_24m  \\\n",
       "count  39717.000000    39717.000000  ...                 0.0   \n",
       "mean       0.146512        0.869200  ...                 NaN   \n",
       "std        0.491812        1.070219  ...                 NaN   \n",
       "min        0.000000        0.000000  ...                 NaN   \n",
       "25%        0.000000        0.000000  ...                 NaN   \n",
       "50%        0.000000        1.000000  ...                 NaN   \n",
       "75%        0.000000        1.000000  ...                 NaN   \n",
       "max       11.000000        8.000000  ...                 NaN   \n",
       "\n",
       "       num_tl_op_past_12m  pct_tl_nvr_dlq  percent_bc_gt_75  \\\n",
       "count                 0.0             0.0               0.0   \n",
       "mean                  NaN             NaN               NaN   \n",
       "std                   NaN             NaN               NaN   \n",
       "min                   NaN             NaN               NaN   \n",
       "25%                   NaN             NaN               NaN   \n",
       "50%                   NaN             NaN               NaN   \n",
       "75%                   NaN             NaN               NaN   \n",
       "max                   NaN             NaN               NaN   \n",
       "\n",
       "       pub_rec_bankruptcies  tax_liens  tot_hi_cred_lim  total_bal_ex_mort  \\\n",
       "count          39020.000000    39678.0              0.0                0.0   \n",
       "mean               0.043260        0.0              NaN                NaN   \n",
       "std                0.204324        0.0              NaN                NaN   \n",
       "min                0.000000        0.0              NaN                NaN   \n",
       "25%                0.000000        0.0              NaN                NaN   \n",
       "50%                0.000000        0.0              NaN                NaN   \n",
       "75%                0.000000        0.0              NaN                NaN   \n",
       "max                2.000000        0.0              NaN                NaN   \n",
       "\n",
       "       total_bc_limit  total_il_high_credit_limit  \n",
       "count             0.0                         0.0  \n",
       "mean              NaN                         NaN  \n",
       "std               NaN                         NaN  \n",
       "min               NaN                         NaN  \n",
       "25%               NaN                         NaN  \n",
       "50%               NaN                         NaN  \n",
       "75%               NaN                         NaN  \n",
       "max               NaN                         NaN  \n",
       "\n",
       "[8 rows x 87 columns]"
      ]
     },
     "execution_count": 4,
     "metadata": {},
     "output_type": "execute_result"
    }
   ],
   "source": [
    "df.describe()"
   ]
  },
  {
   "cell_type": "code",
   "execution_count": 5,
   "metadata": {
    "pycharm": {
     "name": "#%%\n"
    }
   },
   "outputs": [
    {
     "data": {
      "text/plain": [
       "id                                0\n",
       "member_id                         0\n",
       "loan_amnt                         0\n",
       "funded_amnt                       0\n",
       "funded_amnt_inv                   0\n",
       "                              ...  \n",
       "tax_liens                        39\n",
       "tot_hi_cred_lim               39717\n",
       "total_bal_ex_mort             39717\n",
       "total_bc_limit                39717\n",
       "total_il_high_credit_limit    39717\n",
       "Length: 111, dtype: int64"
      ]
     },
     "execution_count": 5,
     "metadata": {},
     "output_type": "execute_result"
    }
   ],
   "source": [
    "#identify the null values column wise\n",
    "df.isnull().sum()"
   ]
  },
  {
   "cell_type": "code",
   "execution_count": 6,
   "metadata": {},
   "outputs": [
    {
     "name": "stdout",
     "output_type": "stream",
     "text": [
      "id [1077501 1077430 1077175 ...   90395   90376   87023]\n",
      "member_id [1296599 1314167 1313524 ...   90390   89243   86999]\n",
      "loan_amnt [ 5000  2500  2400 10000  3000  7000  5600  5375  6500 12000  9000  1000\n",
      "  3600  6000  9200 20250 21000 15000  4000  8500  4375 31825 12400 10800\n",
      " 12500  9600  4400 14000 11000 25600 16000  7100 13000 17500 17675  8000\n",
      "  3500 16425  8200 20975  6400 14400  7250 18000 35000 11800  4500 10500\n",
      " 15300 20000  6200  7200  9500 18825 24000  2100  5500 26800 25000 19750\n",
      " 13650 28000 10625  8850  6375 11100  4200  8875 13500 21600  8450 13475\n",
      " 22000  7325  7750 13350 22475  8400 13250  7350 11500 29500  2000 11625\n",
      " 15075  5300  8650  7400 24250 26000  1500 19600  4225 16500 15600 14125\n",
      " 13200 12300  1400  3200 11875  1800 23200  4800  7300 10400  6600 30000\n",
      "  4475  6300  8250  9875 21500  7800  9750 15550 17000  7500  5800  8050\n",
      "  5400  4125  9800 15700  9900  6250 10200 23000 25975 21250 33425  8125\n",
      " 18800 19200 12875  2625 11300  4100 18225 18500 16800  2200 14050 16100\n",
      " 10525 19775 14500 11700  4150 12375  1700 22250 11200 22500 15900  3150\n",
      " 18550  8575  7700 24500 22200 21400  9400 22400  5825  7650 20675 27050\n",
      " 20500 12800 27575  7600 29000  9575 14575  7125 10700 10375  3050 27000\n",
      " 28625 14100 20050 24925 13600 26400  7150 32000 15500 17475  2250 17050\n",
      "  3250 22750  1200  5900 12600  6750 17250 19075 17200 13225 11775 16400\n",
      " 10075  9350  8075 15625 20125  8300  2425  6950  5350  5875  9450 19000\n",
      " 20400 21650 20300  2300 24575  5850  4750  5275  9175 34475 10050 19400\n",
      " 18200  8800 34000 19500  5200 11900 29100 25850  3300 12200 22575  7175\n",
      " 18250 16750 12950  6350 14750  6625  6900 18650  9250 22800 27300 12250\n",
      "  4350 21200  2700  6025  3825  5325 14150  1600  2800 18975  2575  5450\n",
      "  3800  2125 14650 11250 31000  6075  8475  3625 31300  4250 12650 27600\n",
      " 13150  4300 10275 23600  7875 14550  9925 15850  1325  6325 29700 15200\n",
      " 28100 15250  6800 11325 13975 13800  3100  3975 25450  3575 33600 23700\n",
      " 28200  6475 27700 17375 15800 17625 16675  5250 22950  1950  4650 10250\n",
      "  6100  8325  4850  9425 12700 25475 14850 14300 33000  5150 21625  3775\n",
      " 21575 16250  8375 18725 11125  3525 19800  9300 19125  5575  1450 12900\n",
      " 10150 20450 23500 16600  1300  6925 14675 11550 17400  1100  3400 12775\n",
      "  5050 12100 26375  6975 26300  3125 23325 11600  5100 10175 18400 30750\n",
      " 16550  5650 16450 18950  3650 33950 10125 16775  5700 20200 10600  3725\n",
      " 19425 25900 23800  4025  2600  8900 10900 17600 14825  7925 14950  6700\n",
      "  8600  1925 30500  4900 15575  3175 14800 32275  5750 14600 25200  6550\n",
      " 30400 22900  6850  4600 11425 16950 29850 10675  6650 10775 17325 27250\n",
      "  3700  6450 20800 13575 29275  4725 24800 15750 17100 15875 10925  4950\n",
      " 10575  2850 32875 21100 11050 20375  9325  9375  7475 22125 27525 25500\n",
      " 17750  8675  7450 24625 17900 12075  6725 24400  5225 14075 17175  9475\n",
      "  9975 20900 12150 17725 15350  4925  4550 18750 15125 10950 12475  2750\n",
      "  4625 12175  7575 23525 12350 17950  9525  8975 11975 12850 19850 21850\n",
      "  4425 32250  2550 11400 21725 23100 13700  9950 21750 13750 12025 23400\n",
      " 14975 19700 27500  3900 14725 17800  5175 15025 29550 23850 31500  9100\n",
      " 27400 23675  9825 16200 11650 18875 29175  3950  2050 19950 12750 24375\n",
      "  2875 25875 16275 10300 17450  3450  1825 13100 23275  8700  3675  8150\n",
      " 23975  3350  7075  8625 31800 26200 34675 11025  7850 14175  9150 19925\n",
      " 14275 25400 17825 16875 21800 14475 14225 10225 10650 12725 31400  1550\n",
      " 31700 31200  1875 16300 12550 11725 22600 26500  6225  4450  3875 13275\n",
      " 34525 31025  6775 19450  2900  2450 27200 21300  4700  7425 19575 31150\n",
      " 19100 30100 24600 32350  1900 29300  2350 15950 13300  2975 28250  8100\n",
      " 28600  6425  4050 23450 32400 13675 21350  9050  2675  5025  5950 12625\n",
      " 29800  1750 10825 24700 13125  6125 26850 28800  7275  6825 14775 10975\n",
      " 20950  3850 28500 31325 11750 15825  7525  3550  7950 13400  3375  1250\n",
      " 29600 22350  1850 17850 17875  7550  6175 30800 21125 30225  3750 10025\n",
      " 14350  7775 33500 18900  8025  5125 13775  3075 29900 11525  5550  5975\n",
      " 32500 22100 25300 14700  3325  5075  5625 27175 11575 16325 24200 15050\n",
      "  5425 17700 12450 19725 19550  3025 22875 23075 15450 10750  4325  3275\n",
      "  8175 20700  1775  4775  8225  4575 15775 19475 14200 21225 17225 12425\n",
      "  7900 14525  2650  8275 13325 30600  6275  4075  1625  1275 13075 23750\n",
      " 24650 14250  8825  5775  8350 19150  9725 18575  8725 16050 26250 16075\n",
      "  6150  8750 11075 10875 16350  2275  3925 11375  4275 18325  9650  2725\n",
      " 10425  6575  2075 13175  9550 12675 15425 18300 18600  5525 10550 22325\n",
      " 15175 12225 12525 28750 15650 11450 23350  1525 31725 13625 32775 20600\n",
      "  8550 15975  9775 13425  1050  2950 12925 29375 12325  9075  1350 21700\n",
      " 15400  4975 11275  7725  9225  2325 13725  8775 19250 14900 34800 17300\n",
      "  9700  2150 10100 10350  2825 17975  1650 15275  7975  2925  2525  2225\n",
      "  5725 23425  4875  2475  3425 16700  2775 13050 34200  5925 26025 16225\n",
      "  9275 11350 21450 10850  7225  1425  5475 19300  7050 24175 12050  1225\n",
      " 13850 32525 17075  1375  1675 18275  9125 33250 16525 11850 22300  2375\n",
      "  7675  8525 31050  4525  7025 14625 13375  4675 25375 24975 12825 18150\n",
      " 18050  9850 14875 17425 16725 13550  9625 15150 19875  1475 22650 17150\n",
      "  6875  7375  5675  7625  6525  3225  6675  1075 15675 17275 11475 12975\n",
      " 15325  1125  8950 11675 12275  3475 21425 18125 23050 11175 10450 21825\n",
      " 10475 20150 24750 13900  4175 24100 17925 24150 19975 19900 13950 12125\n",
      " 11225 23475 19650 13450 10725  1150 20475 17525   500   725 23575   700\n",
      "   950 19275   900   750 17350   800 10325 13025 22550]\n",
      "funded_amnt [ 5000  2500  2400 ...   800 13875 22350]\n",
      "funded_amnt_inv [4975. 2500. 2400. ...  200.   75.  150.]\n",
      "term [' 36 months' ' 60 months']\n",
      "int_rate ['10.65%' '15.27%' '15.96%' '13.49%' '12.69%' '7.90%' '18.64%' '21.28%'\n",
      " '14.65%' '9.91%' '16.29%' '6.03%' '11.71%' '12.42%' '14.27%' '16.77%'\n",
      " '7.51%' '8.90%' '18.25%' '6.62%' '19.91%' '17.27%' '17.58%' '21.67%'\n",
      " '19.42%' '22.06%' '20.89%' '20.30%' '23.91%' '19.03%' '23.52%' '23.13%'\n",
      " '22.74%' '22.35%' '24.11%' '6.00%' '22.11%' '7.49%' '11.99%' '5.99%'\n",
      " '10.99%' '9.99%' '18.79%' '11.49%' '8.49%' '15.99%' '16.49%' '6.99%'\n",
      " '12.99%' '15.23%' '14.79%' '5.42%' '10.59%' '17.49%' '15.62%' '21.36%'\n",
      " '19.29%' '13.99%' '18.39%' '16.89%' '17.99%' '20.62%' '20.99%' '22.85%'\n",
      " '19.69%' '20.25%' '23.22%' '21.74%' '22.48%' '23.59%' '12.62%' '18.07%'\n",
      " '11.63%' '7.91%' '7.42%' '11.14%' '20.20%' '12.12%' '19.39%' '16.11%'\n",
      " '17.54%' '22.64%' '13.84%' '16.59%' '17.19%' '12.87%' '20.69%' '9.67%'\n",
      " '21.82%' '19.79%' '18.49%' '22.94%' '24.59%' '24.40%' '21.48%' '14.82%'\n",
      " '14.17%' '7.29%' '17.88%' '20.11%' '16.02%' '17.51%' '13.43%' '14.91%'\n",
      " '13.06%' '15.28%' '15.65%' '17.14%' '11.11%' '10.37%' '16.40%' '7.66%'\n",
      " '10.00%' '18.62%' '10.74%' '5.79%' '6.92%' '9.63%' '14.54%' '12.68%'\n",
      " '19.36%' '13.80%' '18.99%' '21.59%' '20.85%' '21.22%' '19.74%' '20.48%'\n",
      " '6.91%' '12.23%' '12.61%' '10.36%' '6.17%' '6.54%' '9.25%' '16.69%'\n",
      " '15.95%' '8.88%' '13.35%' '9.62%' '16.32%' '12.98%' '14.83%' '13.72%'\n",
      " '14.09%' '14.46%' '20.03%' '17.80%' '15.20%' '15.57%' '18.54%' '19.66%'\n",
      " '17.06%' '18.17%' '17.43%' '20.40%' '20.77%' '18.91%' '21.14%' '17.44%'\n",
      " '13.23%' '7.88%' '11.12%' '13.61%' '10.38%' '17.56%' '17.93%' '15.58%'\n",
      " '13.98%' '14.84%' '15.21%' '6.76%' '6.39%' '11.86%' '7.14%' '14.35%'\n",
      " '16.82%' '10.75%' '14.72%' '16.45%' '18.67%' '20.53%' '19.41%' '20.16%'\n",
      " '21.27%' '18.30%' '19.04%' '20.90%' '21.64%' '12.73%' '10.25%' '13.11%'\n",
      " '10.62%' '13.48%' '14.59%' '16.07%' '15.70%' '9.88%' '11.36%' '15.33%'\n",
      " '13.85%' '14.96%' '14.22%' '7.74%' '13.22%' '13.57%' '8.59%' '17.04%'\n",
      " '14.61%' '8.94%' '12.18%' '11.83%' '11.48%' '16.35%' '13.92%' '15.31%'\n",
      " '14.26%' '19.13%' '12.53%' '16.70%' '16.00%' '17.39%' '18.09%' '7.40%'\n",
      " '18.43%' '17.74%' '7.05%' '20.52%' '20.86%' '19.47%' '18.78%' '21.21%'\n",
      " '19.82%' '20.17%' '13.16%' '8.00%' '13.47%' '12.21%' '16.63%' '9.32%'\n",
      " '12.84%' '11.26%' '15.68%' '15.37%' '10.95%' '11.89%' '14.11%' '13.79%'\n",
      " '7.68%' '11.58%' '7.37%' '16.95%' '15.05%' '18.53%' '14.74%' '14.42%'\n",
      " '18.21%' '17.26%' '18.84%' '17.90%' '19.16%' '13.67%' '9.38%' '12.72%'\n",
      " '13.36%' '11.46%' '10.51%' '9.07%' '13.04%' '11.78%' '12.41%' '10.83%'\n",
      " '12.09%' '17.46%' '14.30%' '17.15%' '15.25%' '10.20%' '15.88%' '14.93%'\n",
      " '16.20%' '18.72%' '14.62%' '8.32%' '14.12%' '10.96%' '10.33%' '10.01%'\n",
      " '12.86%' '11.28%' '11.59%' '8.63%' '12.54%' '12.22%' '11.91%' '15.38%'\n",
      " '16.96%' '13.17%' '9.70%' '16.33%' '14.75%' '15.07%' '16.01%' '10.71%'\n",
      " '10.64%' '9.76%' '11.34%' '10.39%' '13.87%' '11.03%' '11.66%' '13.24%'\n",
      " '10.08%' '9.45%' '13.55%' '12.29%' '11.97%' '12.92%' '15.45%' '14.50%'\n",
      " '14.18%' '15.13%' '16.08%' '15.76%' '17.03%' '17.34%' '16.71%' '9.83%'\n",
      " '13.62%' '10.46%' '9.51%' '9.20%' '13.30%' '10.78%' '7.75%' '8.38%'\n",
      " '12.36%' '12.67%' '11.72%' '13.93%' '8.07%' '7.43%' '12.04%' '14.25%'\n",
      " '14.88%' '11.41%' '11.09%' '10.14%' '16.15%' '15.83%' '7.12%' '18.36%'\n",
      " '9.64%' '9.96%' '11.22%' '9.01%' '9.33%' '11.54%' '12.17%' '12.80%'\n",
      " '14.38%' '13.75%' '14.70%' '12.49%' '14.07%' '10.91%' '13.12%' '10.28%'\n",
      " '8.70%' '14.67%' '15.01%']\n",
      "installment [162.87  59.83  84.33 ...  78.42 275.38 255.43]\n",
      "grade ['B' 'C' 'A' 'E' 'F' 'D' 'G']\n",
      "sub_grade ['B2' 'C4' 'C5' 'C1' 'B5' 'A4' 'E1' 'F2' 'C3' 'B1' 'D1' 'A1' 'B3' 'B4'\n",
      " 'C2' 'D2' 'A3' 'A5' 'D5' 'A2' 'E4' 'D3' 'D4' 'F3' 'E3' 'F4' 'F1' 'E5'\n",
      " 'G4' 'E2' 'G3' 'G2' 'G1' 'F5' 'G5']\n",
      "emp_title [nan 'Ryder' 'AIR RESOURCES BOARD' ... 'FiSite Research'\n",
      " 'Squarewave Solutions, Ltd.' 'Evergreen Center']\n",
      "emp_length ['10+ years' '< 1 year' '1 year' '3 years' '8 years' '9 years' '4 years'\n",
      " '5 years' '6 years' '2 years' '7 years' nan]\n",
      "home_ownership ['RENT' 'OWN' 'MORTGAGE' 'OTHER' 'NONE']\n",
      "annual_inc [24000. 30000. 12252. ... 33990. 36153. 27376.]\n",
      "verification_status ['Verified' 'Source Verified' 'Not Verified']\n",
      "issue_d ['Dec-11' 'Nov-11' 'Oct-11' 'Sep-11' 'Aug-11' 'Jul-11' 'Jun-11' 'May-11'\n",
      " 'Apr-11' 'Mar-11' 'Feb-11' 'Jan-11' 'Dec-10' 'Nov-10' 'Oct-10' 'Sep-10'\n",
      " 'Aug-10' 'Jul-10' 'Jun-10' 'May-10' 'Apr-10' 'Mar-10' 'Feb-10' 'Jan-10'\n",
      " 'Dec-09' 'Nov-09' 'Oct-09' 'Sep-09' 'Aug-09' 'Jul-09' 'Jun-09' 'May-09'\n",
      " 'Apr-09' 'Mar-09' 'Feb-09' 'Jan-09' 'Dec-08' 'Nov-08' 'Oct-08' 'Sep-08'\n",
      " 'Aug-08' 'Jul-08' 'Jun-08' 'May-08' 'Apr-08' 'Mar-08' 'Feb-08' 'Jan-08'\n",
      " 'Dec-07' 'Nov-07' 'Oct-07' 'Sep-07' 'Aug-07' 'Jul-07' 'Jun-07']\n",
      "loan_status ['Fully Paid' 'Charged Off' 'Current']\n",
      "pymnt_plan ['n']\n",
      "url ['https://lendingclub.com/browse/loanDetail.action?loan_id=1077501'\n",
      " 'https://lendingclub.com/browse/loanDetail.action?loan_id=1077430'\n",
      " 'https://lendingclub.com/browse/loanDetail.action?loan_id=1077175' ...\n",
      " 'https://lendingclub.com/browse/loanDetail.action?loan_id=90395'\n",
      " 'https://lendingclub.com/browse/loanDetail.action?loan_id=90376'\n",
      " 'https://lendingclub.com/browse/loanDetail.action?loan_id=87023']\n",
      "desc ['  Borrower added on 12/22/11 > I need to upgrade my business technologies.<br>'\n",
      " '  Borrower added on 12/22/11 > I plan to use this money to finance the motorcycle i am looking at. I plan to have it paid off as soon as possible/when i sell my old bike. I only need this money because the deal im looking at is to good to pass up.<br><br>  Borrower added on 12/22/11 > I plan to use this money to finance the motorcycle i am looking at. I plan to have it paid off as soon as possible/when i sell my old bike.I only need this money because the deal im looking at is to good to pass up. I have finished college with an associates degree in business and its takingmeplaces<br>'\n",
      " nan ...\n",
      " 'Our current gutter system on our home is old and in need of repair.    We will be using the borrowed funds to replace the gutter system on our home.'\n",
      " 'The rate of interest and fees incurred by carrying a balance on my credit card are so outrageous at this point that continuing to pay them is patently bad financial thinking.  I wish to redirect my efforts at retiring my debt via another more-reasonable means.    I have sufficient funds to direct to this end on a monthly basis, and have simply gotten tired of their being gobbled up by interest and fees.'\n",
      " 'I plan to consolidate over $7,000 of debt: a combination of credit cards and student loans.']\n",
      "purpose ['credit_card' 'car' 'small_business' 'other' 'wedding'\n",
      " 'debt_consolidation' 'home_improvement' 'major_purchase' 'medical'\n",
      " 'moving' 'vacation' 'house' 'renewable_energy' 'educational']\n",
      "title ['Computer' 'bike' 'real estate business' ... 'Retiring credit card debt'\n",
      " 'MBA Loan Consolidation' 'JAL Loan']\n",
      "zip_code ['860xx' '309xx' '606xx' '917xx' '972xx' '852xx' '280xx' '900xx' '958xx'\n",
      " '774xx' '853xx' '913xx' '245xx' '951xx' '641xx' '921xx' '067xx' '890xx'\n",
      " '770xx' '335xx' '799xx' '605xx' '103xx' '150xx' '326xx' '564xx' '141xx'\n",
      " '080xx' '330xx' '974xx' '934xx' '405xx' '946xx' '445xx' '850xx' '604xx'\n",
      " '292xx' '088xx' '180xx' '029xx' '700xx' '010xx' '441xx' '104xx' '061xx'\n",
      " '616xx' '947xx' '914xx' '765xx' '980xx' '017xx' '752xx' '787xx' '077xx'\n",
      " '540xx' '225xx' '440xx' '437xx' '559xx' '912xx' '325xx' '300xx' '923xx'\n",
      " '352xx' '013xx' '146xx' '074xx' '786xx' '937xx' '331xx' '115xx' '191xx'\n",
      " '114xx' '908xx' '902xx' '992xx' '750xx' '950xx' '329xx' '226xx' '614xx'\n",
      " '802xx' '672xx' '083xx' '100xx' '926xx' '931xx' '712xx' '060xx' '707xx'\n",
      " '342xx' '895xx' '430xx' '919xx' '996xx' '891xx' '935xx' '801xx' '928xx'\n",
      " '233xx' '927xx' '970xx' '211xx' '303xx' '070xx' '194xx' '263xx' '403xx'\n",
      " '301xx' '553xx' '993xx' '312xx' '432xx' '602xx' '216xx' '151xx' '971xx'\n",
      " '305xx' '334xx' '050xx' '129xx' '925xx' '483xx' '760xx' '961xx' '200xx'\n",
      " '085xx' '981xx' '601xx' '117xx' '063xx' '920xx' '543xx' '775xx' '570xx'\n",
      " '038xx' '221xx' '985xx' '113xx' '275xx' '236xx' '148xx' '028xx' '450xx'\n",
      " '532xx' '729xx' '321xx' '959xx' '941xx' '955xx' '217xx' '880xx' '660xx'\n",
      " '062xx' '193xx' '761xx' '857xx' '306xx' '271xx' '142xx' '956xx' '983xx'\n",
      " '945xx' '109xx' '112xx' '187xx' '630xx' '435xx' '488xx' '287xx' '705xx'\n",
      " '592xx' '318xx' '549xx' '212xx' '347xx' '274xx' '265xx' '785xx' '027xx'\n",
      " '089xx' '813xx' '069xx' '260xx' '201xx' '349xx' '322xx' '075xx' '124xx'\n",
      " '940xx' '967xx' '111xx' '773xx' '997xx' '076xx' '538xx' '021xx' '304xx'\n",
      " '234xx' '308xx' '809xx' '071xx' '363xx' '296xx' '240xx' '830xx' '011xx'\n",
      " '622xx' '207xx' '140xx' '336xx' '619xx' '208xx' '618xx' '014xx' '644xx'\n",
      " '283xx' '276xx' '631xx' '243xx' '960xx' '181xx' '922xx' '224xx' '975xx'\n",
      " '105xx' '986xx' '218xx' '652xx' '782xx' '410xx' '480xx' '328xx' '719xx'\n",
      " '982xx' '065xx' '081xx' '954xx' '346xx' '442xx' '025xx' '122xx' '173xx'\n",
      " '282xx' '120xx' '082xx' '766xx' '229xx' '840xx' '744xx' '933xx' '451xx'\n",
      " '907xx' '728xx' '159xx' '333xx' '293xx' '701xx' '984xx' '811xx' '597xx'\n",
      " '957xx' '165xx' '720xx' '119xx' '359xx' '195xx' '084xx' '969xx' '924xx'\n",
      " '531xx' '716xx' '337xx' '841xx' '323xx' '740xx' '179xx' '805xx' '285xx'\n",
      " '551xx' '658xx' '944xx' '232xx' '905xx' '600xx' '327xx' '711xx' '906xx'\n",
      " '444xx' '856xx' '777xx' '072xx' '554xx' '145xx' '537xx' '152xx' '847xx'\n",
      " '295xx' '829xx' '320xx' '131xx' '939xx' '572xx' '281xx' '064xx' '550xx'\n",
      " '078xx' '452xx' '778xx' '313xx' '851xx' '784xx' '804xx' '571xx' '210xx'\n",
      " '988xx' '400xx' '995xx' '023xx' '158xx' '657xx' '016xx' '019xx' '290xx'\n",
      " '190xx' '366xx' '066xx' '991xx' '968xx' '721xx' '439xx' '640xx' '546xx'\n",
      " '024xx' '751xx' '431xx' '741xx' '904xx' '156xx' '316xx' '299xx' '087xx'\n",
      " '739xx' '949xx' '261xx' '073xx' '222xx' '244xx' '617xx' '018xx' '286xx'\n",
      " '759xx' '952xx' '930xx' '911xx' '220xx' '731xx' '730xx' '262xx' '338xx'\n",
      " '160xx' '031xx' '054xx' '223xx' '272xx' '882xx' '557xx' '797xx' '725xx'\n",
      " '130xx' '030xx' '206xx' '324xx' '170xx' '291xx' '161xx' '647xx' '916xx'\n",
      " '665xx' '209xx' '915xx' '110xx' '086xx' '484xx' '844xx' '020xx' '354xx'\n",
      " '448xx' '978xx' '757xx' '953xx' '577xx' '315xx' '664xx' '186xx' '182xx'\n",
      " '574xx' '800xx' '197xx' '137xx' '314xx' '755xx' '973xx' '603xx' '481xx'\n",
      " '780xx' '894xx' '341xx' '361xx' '178xx' '068xx' '565xx' '611xx' '288xx'\n",
      " '443xx' '662xx' '874xx' '560xx' '535xx' '499xx' '162xx' '756xx' '168xx'\n",
      " '827xx' '541xx' '615xx' '989xx' '037xx' '863xx' '339xx' '367xx' '273xx'\n",
      " '052xx' '623xx' '416xx' '648xx' '918xx' '436xx' '898xx' '674xx' '496xx'\n",
      " '294xx' '762xx' '128xx' '903xx' '932xx' '650xx' '246xx' '633xx' '666xx'\n",
      " '228xx' '015xx' '302xx' '573xx' '118xx' '998xx' '767xx' '490xx' '350xx'\n",
      " '591xx' '254xx' '566xx' '596xx' '637xx' '032xx' '763xx' '494xx' '402xx'\n",
      " '545xx' '184xx' '239xx' '977xx' '297xx' '284xx' '144xx' '748xx' '310xx'\n",
      " '147xx' '153xx' '544xx' '948xx' '576xx' '976xx' '107xx' '846xx' '344xx'\n",
      " '351xx' '754xx' '910xx' '656xx' '357xx' '791xx' '493xx' '855xx' '278xx'\n",
      " '125xx' '175xx' '530xx' '171xx' '703xx' '620xx' '438xx' '626xx' '307xx'\n",
      " '636xx' '319xx' '116xx' '645xx' '708xx' '816xx' '625xx' '133xx' '612xx'\n",
      " '238xx' '166xx' '231xx' '241xx' '826xx' '783xx' '793xx' '646xx' '188xx'\n",
      " '108xx' '653xx' '871xx' '057xx' '796xx' '990xx' '219xx' '724xx' '456xx'\n",
      " '214xx' '237xx' '737xx' '121xx' '199xx' '548xx' '453xx' '704xx' '368xx'\n",
      " '828xx' '598xx' '136xx' '610xx' '433xx' '722xx' '743xx' '810xx' '706xx'\n",
      " '235xx' '139xx' '613xx' '454xx' '317xx' '746xx' '446xx' '486xx' '033xx'\n",
      " '279xx' '407xx' '803xx' '794xx' '457xx' '189xx' '196xx' '539xx' '424xx'\n",
      " '492xx' '482xx' '667xx' '845xx' '608xx' '401xx' '362xx' '627xx' '717xx'\n",
      " '356xx' '607xx' '963xx' '198xx' '936xx' '713xx' '227xx' '883xx' '563xx'\n",
      " '893xx' '079xx' '806xx' '360xx' '172xx' '422xx' '768xx' '034xx' '735xx'\n",
      " '870xx' '012xx' '594xx' '215xx' '628xx' '749xx' '101xx' '814xx' '255xx'\n",
      " '745xx' '495xx' '132xx' '183xx' '864xx' '106xx' '663xx' '943xx' '094xx'\n",
      " '177xx' '365xx' '897xx' '776xx' '843xx' '458xx' '421xx' '253xx' '795xx'\n",
      " '727xx' '528xx' '270xx' '808xx' '277xx' '447xx' '358xx' '815xx' '250xx'\n",
      " '230xx' '790xx' '884xx' '242xx' '534xx' '404xx' '397xx' '434xx' '671xx'\n",
      " '655xx' '675xx' '053xx' '859xx' '126xx' '102xx' '256xx' '673xx' '489xx'\n",
      " '258xx' '423xx' '497xx' '788xx' '127xx' '176xx' '380xx' '058xx' '635xx'\n",
      " '498xx' '820xx' '599xx' '822xx' '638xx' '723xx' '449xx' '420xx' '157xx'\n",
      " '726xx' '185xx' '527xx' '298xx' '769xx' '257xx' '881xx' '575xx' '624xx'\n",
      " '134xx' '877xx' '781xx' '718xx' '670xx' '138xx' '026xx' '678xx' '398xx'\n",
      " '411xx' '149xx' '247xx' '875xx' '838xx' '651xx' '364xx' '203xx' '427xx'\n",
      " '629xx' '355xx' '174xx' '547xx' '567xx' '558xx' '135xx' '035xx' '999xx'\n",
      " '634xx' '455xx' '143xx' '154xx' '562xx' '779xx' '561xx' '734xx' '789xx'\n",
      " '812xx' '268xx' '051xx' '865xx' '406xx' '661xx' '758xx' '676xx' '491xx'\n",
      " '267xx' '609xx' '595xx' '259xx' '163xx' '264xx' '409xx' '376xx' '471xx'\n",
      " '375xx' '747xx' '123xx' '714xx' '590xx' '639xx' '412xx' '425xx' '022xx'\n",
      " '369xx' '164xx' '825xx' '266xx' '096xx' '487xx' '251xx' '593xx' '169xx'\n",
      " '413xx' '155xx' '764xx' '710xx' '408xx' '668xx' '056xx' '669xx' '167xx'\n",
      " '542xx' '679xx' '462xx' '792xx' '824xx' '249xx' '798xx' '370xx' '485xx'\n",
      " '654xx' '289xx' '807xx' '252xx' '556xx' '353xx' '677xx' '090xx' '371xx'\n",
      " '831xx' '736xx' '007xx' '332xx' '468xx' '461xx' '093xx' '248xx' '463xx'\n",
      " '391xx' '381xx' '415xx' '378xx' '414xx' '396xx' '836xx' '044xx' '392xx'\n",
      " '772xx' '374xx' '823xx' '395xx' '394xx' '965xx' '390xx' '388xx' '386xx'\n",
      " '040xx' '385xx' '379xx' '681xx' '837xx' '373xx' '753xx' '834xx' '383xx'\n",
      " '384xx' '372xx' '833xx' '522xx' '523xx' '474xx' '465xx' '689xx' '473xx'\n",
      " '041xx' '685xx' '479xx' '469xx']\n",
      "addr_state ['AZ' 'GA' 'IL' 'CA' 'OR' 'NC' 'TX' 'VA' 'MO' 'CT' 'UT' 'FL' 'NY' 'PA'\n",
      " 'MN' 'NJ' 'KY' 'OH' 'SC' 'RI' 'LA' 'MA' 'WA' 'WI' 'AL' 'CO' 'KS' 'NV'\n",
      " 'AK' 'MD' 'WV' 'VT' 'MI' 'DC' 'SD' 'NH' 'AR' 'NM' 'MT' 'HI' 'WY' 'OK'\n",
      " 'DE' 'MS' 'TN' 'IA' 'NE' 'ID' 'IN' 'ME']\n",
      "dti [27.65  1.    8.72 ...  1.79  0.12 25.43]\n",
      "delinq_2yrs [ 0  2  3  1  4  6  5  8  7  9 11]\n",
      "earliest_cr_line ['Jan-85' 'Apr-99' 'Nov-01' 'Feb-96' 'Jan-96' 'Nov-04' 'Jul-05' 'Jan-07'\n",
      " 'Apr-04' 'Sep-04' 'Jan-98' 'Oct-89' 'Jul-03' 'May-91' 'Sep-07' 'Oct-98'\n",
      " 'Aug-93' 'Oct-03' 'Jan-01' 'Nov-97' 'Feb-83' 'Jul-85' 'Apr-03' 'Jun-01'\n",
      " 'Feb-02' 'Aug-84' 'Nov-06' 'Dec-87' 'Nov-81' 'Feb-97' 'Apr-05' 'Oct-07'\n",
      " 'Dec-00' 'Apr-07' 'Dec-01' 'Jan-03' 'Mar-94' 'Sep-98' 'Jun-04' 'Nov-95'\n",
      " 'Jul-99' 'Jun-95' 'Sep-92' 'Jan-02' 'Apr-92' 'Oct-06' 'May-00' 'Dec-98'\n",
      " 'Dec-04' 'Oct-00' 'May-02' 'May-06' 'Jul-02' 'Jul-06' 'May-97' 'Oct-05'\n",
      " 'Apr-95' 'Oct-02' 'Jan-00' 'Apr-00' 'Dec-94' 'Sep-05' 'Dec-84' 'Dec-99'\n",
      " 'Nov-03' 'Jun-89' 'Jun-03' 'Oct-96' 'May-03' 'Jun-02' 'Jun-07' 'Dec-96'\n",
      " 'Feb-84' 'Sep-02' 'Jan-86' 'May-98' 'Jan-97' 'Jun-05' 'Feb-90' 'Mar-04'\n",
      " 'Jul-95' 'Aug-94' 'Jun-92' 'Mar-97' 'Apr-06' 'Apr-90' 'Aug-99' 'Sep-00'\n",
      " 'Feb-01' 'Dec-88' 'Feb-99' 'Dec-91' 'Aug-00' 'Oct-04' 'Aug-04' 'Feb-05'\n",
      " 'Nov-05' 'Nov-00' 'May-07' 'Jan-91' 'Jun-00' 'Aug-06' 'Dec-02' 'Jun-93'\n",
      " 'Jun-06' 'Feb-04' 'Dec-90' 'Mar-00' 'Feb-95' 'Jul-01' 'Apr-02' 'Sep-06'\n",
      " 'May-99' 'Aug-98' 'Dec-05' 'May-04' 'Oct-01' 'Jun-83' 'Mar-86' 'Apr-80'\n",
      " 'Jul-04' 'Jul-08' 'May-96' 'Jan-04' 'Nov-02' 'Aug-02' 'Aug-01' 'Mar-91'\n",
      " 'Sep-89' 'Sep-94' 'Sep-03' 'Sep-99' 'Aug-05' 'Dec-86' 'Nov-98' 'Feb-06'\n",
      " 'May-94' 'Nov-07' 'Feb-93' 'Nov-91' 'May-05' 'Dec-73' 'May-01' 'Mar-90'\n",
      " 'Mar-96' 'Oct-79' 'Jun-81' 'Mar-01' 'Apr-01' 'Jun-99' 'Nov-93' 'Jan-06'\n",
      " 'Dec-97' 'Nov-94' 'Jul-97' 'Oct-91' 'Jun-94' 'Mar-06' 'Sep-96' 'Apr-91'\n",
      " 'Jul-93' 'Jan-95' 'Sep-87' 'Mar-03' 'Oct-99' 'Jul-96' 'Dec-03' 'Aug-88'\n",
      " 'Jan-92' 'Mar-98' 'Feb-07' 'Aug-82' 'Mar-95' 'Dec-92' 'Jul-98' 'Jul-89'\n",
      " 'May-90' 'Jul-94' 'Sep-01' 'Mar-84' 'Aug-03' 'Nov-99' 'Mar-07' 'Mar-08'\n",
      " 'Apr-94' 'Jan-05' 'Jul-86' 'Aug-90' 'May-92' 'Jul-00' 'Mar-88' 'May-83'\n",
      " 'Apr-93' 'Jul-78' 'Feb-00' 'Dec-81' 'Mar-92' 'Jan-81' 'Sep-90' 'Jun-98'\n",
      " 'May-93' 'Nov-96' 'Mar-02' 'Jan-88' 'Aug-97' 'Aug-87' 'Aug-08' 'Oct-94'\n",
      " 'Oct-86' 'Feb-94' 'Jun-96' 'Feb-98' 'Nov-08' 'Apr-98' 'Jul-79' 'Jan-93'\n",
      " 'May-87' 'Jul-71' 'Aug-07' 'Jun-97' 'Mar-80' 'Dec-06' 'Jul-07' 'Oct-95'\n",
      " 'Jul-91' 'Jul-92' 'Dec-72' 'Dec-93' 'Jan-99' 'Feb-03' 'Apr-97' 'Dec-95'\n",
      " 'Apr-96' 'Jul-90' 'Mar-70' 'Nov-84' 'Apr-84' 'Jul-84' 'Aug-95' 'Mar-99'\n",
      " 'Sep-88' 'Mar-89' 'Mar-87' 'Oct-97' 'Dec-80' 'Jan-94' 'Sep-95' 'Mar-05'\n",
      " 'Jan-89' 'Feb-92' 'Jan-90' 'Nov-90' 'Mar-69' 'Jun-75' 'Mar-85' 'Dec-07'\n",
      " 'Oct-93' 'Dec-89' 'Sep-80' 'Jun-88' 'May-78' 'Apr-73' 'Aug-89' 'Oct-90'\n",
      " 'Sep-91' 'Feb-82' 'Feb-87' 'Nov-85' 'Jan-84' 'Jul-88' 'May-08' 'Oct-85'\n",
      " 'Mar-83' 'Aug-91' 'Sep-86' 'Jun-90' 'Feb-86' 'Sep-97' 'Jun-84' 'Sep-81'\n",
      " 'Apr-86' 'Aug-79' 'Aug-80' 'Nov-92' 'Sep-93' 'Jun-87' 'Sep-82' 'Aug-92'\n",
      " 'Aug-85' 'Jul-83' 'Jun-91' 'Dec-83' 'Jan-87' 'Nov-78' 'Oct-84' 'Aug-96'\n",
      " 'Nov-89' 'Sep-76' 'Nov-86' 'Oct-87' 'Sep-08' 'May-77' 'May-86' 'Mar-81'\n",
      " 'Jan-83' 'Nov-76' 'Sep-79' 'Oct-83' 'Sep-62' 'Jun-85' 'May-82' 'Feb-88'\n",
      " 'Oct-92' 'Aug-83' 'Jun-73' 'Apr-85' 'Oct-88' 'Oct-81' 'Sep-68' 'Jul-74'\n",
      " 'Nov-87' 'May-95' 'Feb-91' 'Nov-88' 'Mar-93' 'Jun-08' 'Jul-80' 'Dec-82'\n",
      " 'Mar-75' 'Feb-80' 'Apr-88' 'Dec-79' 'Sep-85' 'Sep-71' 'Mar-78' 'Feb-08'\n",
      " 'Aug-78' 'Nov-70' 'Jun-79' 'Jun-80' 'Apr-89' 'Sep-83' 'Feb-89' 'Nov-83'\n",
      " 'Jun-86' 'Oct-82' 'Aug-86' 'Oct-80' 'May-88' 'Dec-85' 'Jan-82' 'Sep-77'\n",
      " 'Dec-76' 'Apr-82' 'May-84' 'Apr-08' 'Feb-79' 'Jan-08' 'Sep-64' 'Jul-87'\n",
      " 'Jan-78' 'May-89' 'Oct-77' 'Dec-75' 'Feb-85' 'Oct-08' 'Nov-82' 'May-75'\n",
      " 'May-85' 'Feb-71' 'Jun-77' 'Apr-81' 'May-79' 'Jan-72' 'Sep-67' 'Apr-78'\n",
      " 'Feb-65' 'Apr-83' 'Nov-75' 'Jun-67' 'Mar-74' 'Jul-72' 'Aug-67' 'Apr-71'\n",
      " 'Sep-84' 'May-81' 'Dec-70' 'Oct-73' 'Jan-71' 'Dec-63' 'Apr-74' 'Jan-80'\n",
      " 'Aug-69' 'Apr-75' 'Jul-77' 'Mar-77' 'Nov-69' 'Jan-76' 'Mar-82' 'Apr-87'\n",
      " 'Dec-69' 'May-74' 'Aug-74' 'Jun-72' 'Mar-63' 'Nov-79' 'Aug-75' 'Sep-74'\n",
      " 'Aug-81' 'May-73' 'Sep-73' 'Mar-73' 'Dec-77' 'Oct-76' 'Jan-74' 'Jan-70'\n",
      " 'Aug-68' 'Feb-76' 'Jan-75' 'Oct-72' 'Dec-74' 'Feb-73' 'Nov-65' 'Mar-72'\n",
      " 'Jun-82' 'Jun-74' 'May-65' 'Jun-71' 'Oct-70' 'Apr-76' 'Oct-71' 'Apr-77'\n",
      " 'Sep-78' 'Oct-78' 'Oct-54' 'Feb-81' 'Jan-77' 'Aug-77' 'Dec-78' 'Aug-76'\n",
      " 'Jun-68' 'Jun-78' 'Jun-69' 'May-80' 'Jan-79' 'Oct-65' 'Nov-74' 'Apr-66'\n",
      " 'Jun-76' 'Feb-72' 'May-76' 'Mar-68' 'Mar-76' 'Jul-70' 'Mar-79' 'Jul-76'\n",
      " 'Jul-82' 'Sep-65' 'Apr-67' 'Oct-63' 'Feb-70' 'Jul-73' 'Feb-78' 'Nov-71'\n",
      " 'Aug-72' 'Jul-75' 'Sep-70' 'Jul-81' 'Oct-64' 'Sep-72' 'May-70' 'May-63'\n",
      " 'Feb-69' 'Nov-80' 'Jul-67' 'Apr-70' 'Nov-77' 'Nov-66' 'May-71' 'Apr-79'\n",
      " 'May-72' 'Feb-68' 'Jul-64' 'Nov-67' 'Apr-64' 'Feb-75' 'Jun-59' 'Sep-56'\n",
      " 'Jun-66' 'Jan-46' 'Mar-66' 'Jan-63' 'Dec-50' 'Jul-69' 'Jan-68' 'Nov-73'\n",
      " 'Jun-70' 'Feb-77' 'Feb-74' 'Jan-73' 'Feb-66' 'Dec-61' 'Aug-73' 'Aug-70'\n",
      " 'Sep-69' 'Sep-75' 'Dec-68' 'Nov-54' 'Oct-69' 'Dec-65' 'Apr-72' 'Nov-72'\n",
      " 'Sep-63' 'Apr-69' 'Nov-62' 'Oct-67' 'May-67' 'Nov-61' 'Feb-67' 'Nov-68'\n",
      " 'Oct-75' 'Mar-71' 'Aug-71' 'Dec-66' 'Oct-68' 'Oct-74']\n",
      "inq_last_6mths [1 5 2 0 3 4 6 7 8]\n",
      "mths_since_last_delinq [ nan  35.  38.  61.   8.  20.  18.  68.  45.  48.  41.  40.  74.  25.\n",
      "  53.  39.  10.  26.  56.  77.  28.  52.  24.  16.  60.  54.  23.   9.\n",
      "  11.  13.  65.  19.  80.  22.  59.  79.  44.  64.  57.  14.  63.  49.\n",
      "  15.  73.  70.  29.  51.   5.  75.  55.   2.  30.  47.  33.  69.   4.\n",
      "  43.  21.  27.  46.  81.  78.  82.  31.  76.  62.  72.  42.  50.   3.\n",
      "  12.  67.  36.  34.  58.  17.  71.  66.  32.   6.  37.   7.   1.  83.\n",
      "  86. 115.  96. 103. 120. 106.  89. 107.  85.  97.  95.   0.]\n",
      "mths_since_last_record [ nan 113. 105.  97.  33.  93.  52.  85.  90.  91. 114.  92. 117.  87.\n",
      "  45.  83. 118.  38. 101. 100. 112. 110.  88.  79.  77. 107. 102.  98.\n",
      "  95. 103.  96. 116. 111.  89. 108.  29. 106. 115.  53.  86.  57.  63.\n",
      "  94. 109.  99. 104.  76.  61.  28.  23.  75.  47.  82.  21.  62.  44.\n",
      "  80.  67. 119.  42.  34.  66.  58.  22.  56.  72.  64.  50.  69.  49.\n",
      "  74.  35.  12.  26.  78.  54.  37.  73.  11.  31.  59.  32.  81.  68.\n",
      "  55.  39.  51.  70.  30.  41.  71.  40.  43.  27.  65.  46.  19.  17.\n",
      "  25.  13.  48.  36.   7.  60.  14.   6.  18.   0.  20. 120. 129.   5.]\n",
      "open_acc [ 3  2 10 15  9  7  4 11 14 12 20  8  6 17  5 13 16 30 21 18 19 27 23 34\n",
      " 25 22 24 26 32 28 29 33 31 39 35 36 38 44 41 42]\n",
      "pub_rec [0 1 2 3 4]\n",
      "revol_bal [13648  1687  2956 ... 27185 66033 85607]\n",
      "revol_util ['83.70%' '9.40%' '98.50%' ... '49.63%' '0.04%' '7.28%']\n",
      "total_acc [ 9  4 10 37 38 12 11 13  3 23 34 29 28 42 14 22 21 17  7 31 44 26 16  6\n",
      " 18 27 24 25 40 35  8 20 15 19 36 51 32 30 33 46  5 61 56 50 41 39 79 62\n",
      " 43 47 53 45 60 55 52 58 54 57 49 63 48 59 77 87 75 72 64 67 78 76 74 66\n",
      " 81 90 80 71 69 73 70 68 65  2]\n",
      "initial_list_status ['f']\n",
      "out_prncp [   0.    524.06 1849.1  ...   19.12   13.28   79.24]\n",
      "out_prncp_inv [   0.    524.06 1844.43 ...   19.09   13.28   79.24]\n",
      "total_pymnt [5863.155187 1008.71     3005.666844 ... 5272.161128 5174.198551\n",
      " 9195.263334]\n",
      "total_pymnt_inv [5833.84 1008.71 3005.67 ... 1397.12  672.66  980.83]\n",
      "total_rec_prncp [ 5000.     456.46  2400.   ...  2886.21   544.02 16077.42]\n",
      "total_rec_int [ 863.16  435.17  605.67 ... 1413.49  174.2  1695.26]\n",
      "total_rec_late_fee [ 0.         16.97       15.00000003 ...  1.69        1.36\n",
      " 19.89      ]\n",
      "recoveries [  0.   117.08 189.06 ... 304.2   35.7   21.29]\n",
      "collection_recovery_fee [0.0000e+00 1.1100e+00 2.0900e+00 ... 6.6836e+02 4.4425e+02 2.3000e-01]\n",
      "last_pymnt_d ['Jan-15' 'Apr-13' 'Jun-14' 'May-16' 'Apr-12' 'Nov-12' 'Jun-13' 'Sep-13'\n",
      " 'Jul-12' 'Oct-13' 'May-13' 'Feb-15' 'Aug-15' 'Oct-12' 'Sep-12' nan\n",
      " 'Dec-12' 'Dec-14' 'Aug-13' 'Nov-13' 'Jan-14' 'Apr-14' 'Aug-14' 'Oct-14'\n",
      " 'Aug-12' 'Jul-14' 'Jul-13' 'Jan-16' 'Feb-16' 'Apr-15' 'Feb-14' 'Sep-14'\n",
      " 'Jun-12' 'Feb-13' 'Mar-13' 'May-14' 'Mar-15' 'Jan-13' 'Dec-13' 'Feb-12'\n",
      " 'Mar-14' 'Sep-15' 'Nov-15' 'Mar-16' 'Jan-12' 'Oct-15' 'Nov-14' 'Mar-12'\n",
      " 'May-12' 'Apr-16' 'Dec-15' 'Jun-15' 'May-15' 'Jul-15' 'Dec-11' 'Nov-11'\n",
      " 'Oct-11' 'Sep-11' 'Aug-11' 'Jul-11' 'Jun-11' 'May-11' 'Apr-11' 'Mar-11'\n",
      " 'Feb-11' 'Jan-11' 'Dec-10' 'Nov-10' 'Oct-10' 'Sep-10' 'Aug-10' 'Jul-10'\n",
      " 'Jun-10' 'May-10' 'Apr-10' 'Mar-10' 'Feb-10' 'Jan-10' 'Dec-09' 'Nov-09'\n",
      " 'Oct-09' 'Sep-09' 'Aug-09' 'Jul-09' 'Jun-09' 'May-09' 'Apr-09' 'Mar-09'\n",
      " 'Feb-09' 'Jan-09' 'Dec-08' 'Oct-08' 'Aug-08' 'Jul-08' 'Sep-08' 'Jun-08'\n",
      " 'May-08' 'Nov-08' 'Apr-08' 'Mar-08' 'Feb-08' 'Jan-08']\n",
      "last_pymnt_amnt [171.62 119.66 649.91 ...  80.9  281.94 256.59]\n",
      "next_pymnt_d [nan 'Jun-16' 'Jul-16']\n",
      "last_credit_pull_d ['May-16' 'Sep-13' 'Apr-16' 'Jan-16' 'Dec-14' 'Aug-12' 'Mar-13' 'Dec-15'\n",
      " 'Aug-13' 'Nov-12' 'Mar-14' 'Apr-15' 'May-14' 'Jul-15' 'Feb-16' 'Mar-16'\n",
      " 'Sep-12' 'May-13' 'Jan-15' 'Jun-12' 'Mar-15' 'Dec-12' 'Sep-14' 'Feb-14'\n",
      " 'Jun-15' 'Oct-13' 'Apr-14' 'Oct-14' 'Feb-13' 'Nov-15' 'Jul-14' 'Sep-15'\n",
      " 'Oct-12' 'Nov-13' 'Nov-14' 'Feb-12' 'Oct-15' 'Apr-12' 'Aug-15' 'Jun-14'\n",
      " 'Jan-12' 'Aug-14' 'Jun-13' 'Dec-13' 'May-12' 'Jul-12' 'Jan-14' 'Jul-13'\n",
      " 'Apr-13' 'May-15' 'Feb-15' 'Mar-12' 'Nov-11' 'Dec-11' 'Jan-13' 'Oct-11'\n",
      " 'Sep-11' 'Aug-11' 'Jul-11' 'Jun-11' 'May-11' 'Apr-11' 'Mar-11' 'Feb-11'\n",
      " 'Jan-11' 'Dec-10' 'Nov-10' 'Oct-10' nan 'Sep-10' 'Aug-10' 'Jul-10'\n",
      " 'Jun-10' 'May-10' 'Apr-10' 'Feb-10' 'Mar-10' 'Aug-07' 'Jan-10' 'Dec-09'\n",
      " 'Nov-09' 'Oct-09' 'Sep-09' 'Jul-09' 'Aug-09' 'May-09' 'Jun-09' 'Apr-09'\n",
      " 'Mar-09' 'Feb-09' 'Jan-09' 'Dec-08' 'Jun-08' 'Sep-08' 'May-08' 'Aug-08'\n",
      " 'Mar-08' 'Oct-08' 'Feb-08' 'Jan-08' 'Dec-07' 'Jul-08' 'Oct-07' 'Sep-07'\n",
      " 'Jun-07' 'May-07' 'Jul-07']\n",
      "collections_12_mths_ex_med [ 0. nan]\n",
      "mths_since_last_major_derog [nan]\n",
      "policy_code [1]\n",
      "application_type ['INDIVIDUAL']\n",
      "annual_inc_joint [nan]\n",
      "dti_joint [nan]\n",
      "verification_status_joint [nan]\n",
      "acc_now_delinq [0]\n",
      "tot_coll_amt [nan]\n",
      "tot_cur_bal [nan]\n",
      "open_acc_6m [nan]\n",
      "open_il_6m [nan]\n",
      "open_il_12m [nan]\n",
      "open_il_24m [nan]\n",
      "mths_since_rcnt_il [nan]\n",
      "total_bal_il [nan]\n",
      "il_util [nan]\n",
      "open_rv_12m [nan]\n",
      "open_rv_24m [nan]\n",
      "max_bal_bc [nan]\n",
      "all_util [nan]\n",
      "total_rev_hi_lim [nan]\n",
      "inq_fi [nan]\n",
      "total_cu_tl [nan]\n",
      "inq_last_12m [nan]\n",
      "acc_open_past_24mths [nan]\n",
      "avg_cur_bal [nan]\n",
      "bc_open_to_buy [nan]\n",
      "bc_util [nan]\n",
      "chargeoff_within_12_mths [ 0. nan]\n",
      "delinq_amnt [0]\n",
      "mo_sin_old_il_acct [nan]\n",
      "mo_sin_old_rev_tl_op [nan]\n",
      "mo_sin_rcnt_rev_tl_op [nan]\n",
      "mo_sin_rcnt_tl [nan]\n",
      "mort_acc [nan]\n",
      "mths_since_recent_bc [nan]\n",
      "mths_since_recent_bc_dlq [nan]\n",
      "mths_since_recent_inq [nan]\n",
      "mths_since_recent_revol_delinq [nan]\n",
      "num_accts_ever_120_pd [nan]\n",
      "num_actv_bc_tl [nan]\n",
      "num_actv_rev_tl [nan]\n",
      "num_bc_sats [nan]\n",
      "num_bc_tl [nan]\n",
      "num_il_tl [nan]\n",
      "num_op_rev_tl [nan]\n",
      "num_rev_accts [nan]\n",
      "num_rev_tl_bal_gt_0 [nan]\n",
      "num_sats [nan]\n",
      "num_tl_120dpd_2m [nan]\n",
      "num_tl_30dpd [nan]\n",
      "num_tl_90g_dpd_24m [nan]\n",
      "num_tl_op_past_12m [nan]\n",
      "pct_tl_nvr_dlq [nan]\n",
      "percent_bc_gt_75 [nan]\n",
      "pub_rec_bankruptcies [ 0.  1.  2. nan]\n",
      "tax_liens [ 0. nan]\n",
      "tot_hi_cred_lim [nan]\n",
      "total_bal_ex_mort [nan]\n",
      "total_bc_limit [nan]\n",
      "total_il_high_credit_limit [nan]\n"
     ]
    }
   ],
   "source": [
    "#check fot unique values in each column\n",
    "for col_name in df.columns: \n",
    "    print(col_name,df[col_name].unique())"
   ]
  },
  {
   "cell_type": "markdown",
   "metadata": {},
   "source": [
    "# Data Cleaning"
   ]
  },
  {
   "cell_type": "code",
   "execution_count": 7,
   "metadata": {},
   "outputs": [],
   "source": [
    "#Drop columns that specify customer specific details and demographic details\n",
    "df.drop([\"delinq_2yrs\",\"earliest_cr_line\",\"inq_last_6mths\",\"open_acc\",\n",
    "         \"pub_rec\",\"revol_bal\",\"revol_util\",\"total_acc\",\"out_prncp\",\"out_prncp_inv\",\n",
    "         \"total_pymnt\",\"total_pymnt_inv\",\"total_rec_prncp\",\"total_rec_int\",\"total_rec_late_fee\",\n",
    "         \"recoveries\",\"collection_recovery_fee\",\"last_pymnt_d\",\"last_pymnt_amnt\",\"last_credit_pull_d\",\n",
    "         \"application_type\",\"emp_title\",\"issue_d\",\"url\",\"zip_code\"],axis =1,inplace = True)  "
   ]
  },
  {
   "cell_type": "code",
   "execution_count": 8,
   "metadata": {},
   "outputs": [],
   "source": [
    "#Remove missing columns\n",
    "df.dropna(axis=1, how='all',inplace = True)"
   ]
  },
  {
   "cell_type": "code",
   "execution_count": 9,
   "metadata": {},
   "outputs": [
    {
     "data": {
      "text/plain": [
       "(39717, 32)"
      ]
     },
     "execution_count": 9,
     "metadata": {},
     "output_type": "execute_result"
    }
   ],
   "source": [
    "df.columns\n",
    "df.shape"
   ]
  },
  {
   "cell_type": "code",
   "execution_count": 10,
   "metadata": {},
   "outputs": [],
   "source": [
    "#title & purpose are having same value, dropping title\n",
    "df[\"purpose\"].value_counts()\n",
    "df[\"title\"].value_counts()\n",
    "df.drop([\"title\"], axis = 1, inplace = True)"
   ]
  },
  {
   "cell_type": "code",
   "execution_count": 11,
   "metadata": {},
   "outputs": [],
   "source": [
    "#not giving much value to analysis\n",
    "df.drop([\"desc\"], axis = 1, inplace = True)"
   ]
  },
  {
   "cell_type": "code",
   "execution_count": 12,
   "metadata": {},
   "outputs": [],
   "source": [
    "#remove columns having more than 40 - 60% null values\n",
    "df.drop([\"mths_since_last_delinq\",\"mths_since_last_record\",\"next_pymnt_d\"], axis = 1, inplace = True)"
   ]
  },
  {
   "cell_type": "code",
   "execution_count": 13,
   "metadata": {},
   "outputs": [
    {
     "data": {
      "text/plain": [
       "311.11     68\n",
       "180.96     59\n",
       "311.02     54\n",
       "150.80     48\n",
       "368.45     46\n",
       "           ..\n",
       "1224.46     1\n",
       "63.44       1\n",
       "157.67      1\n",
       "492.34      1\n",
       "255.43      1\n",
       "Name: installment, Length: 15383, dtype: int64"
      ]
     },
     "execution_count": 13,
     "metadata": {},
     "output_type": "execute_result"
    }
   ],
   "source": [
    "df[\"installment\"].value_counts()"
   ]
  },
  {
   "cell_type": "code",
   "execution_count": 14,
   "metadata": {},
   "outputs": [],
   "source": [
    "#remove columns having zero values\n",
    "df.drop([\"collections_12_mths_ex_med\",\"acc_now_delinq\",\"chargeoff_within_12_mths\",\n",
    "         \"delinq_amnt\",\"tax_liens\",\"pymnt_plan\",\"initial_list_status\",\"policy_code\",\"pub_rec_bankruptcies\"], axis = 1, inplace = True)"
   ]
  },
  {
   "cell_type": "code",
   "execution_count": 15,
   "metadata": {},
   "outputs": [
    {
     "data": {
      "text/plain": [
       "id                        0\n",
       "member_id                 0\n",
       "loan_amnt                 0\n",
       "funded_amnt               0\n",
       "funded_amnt_inv           0\n",
       "term                      0\n",
       "int_rate                  0\n",
       "installment               0\n",
       "grade                     0\n",
       "sub_grade                 0\n",
       "emp_length             1075\n",
       "home_ownership            0\n",
       "annual_inc                0\n",
       "verification_status       0\n",
       "loan_status               0\n",
       "purpose                   0\n",
       "addr_state                0\n",
       "dti                       0\n",
       "dtype: int64"
      ]
     },
     "execution_count": 15,
     "metadata": {},
     "output_type": "execute_result"
    }
   ],
   "source": [
    "df.isnull().sum()"
   ]
  },
  {
   "cell_type": "code",
   "execution_count": 16,
   "metadata": {},
   "outputs": [
    {
     "data": {
      "text/html": [
       "<div>\n",
       "<style scoped>\n",
       "    .dataframe tbody tr th:only-of-type {\n",
       "        vertical-align: middle;\n",
       "    }\n",
       "\n",
       "    .dataframe tbody tr th {\n",
       "        vertical-align: top;\n",
       "    }\n",
       "\n",
       "    .dataframe thead th {\n",
       "        text-align: right;\n",
       "    }\n",
       "</style>\n",
       "<table border=\"1\" class=\"dataframe\">\n",
       "  <thead>\n",
       "    <tr style=\"text-align: right;\">\n",
       "      <th></th>\n",
       "      <th>id</th>\n",
       "      <th>member_id</th>\n",
       "      <th>loan_amnt</th>\n",
       "      <th>funded_amnt</th>\n",
       "      <th>funded_amnt_inv</th>\n",
       "      <th>installment</th>\n",
       "      <th>annual_inc</th>\n",
       "      <th>dti</th>\n",
       "    </tr>\n",
       "  </thead>\n",
       "  <tbody>\n",
       "    <tr>\n",
       "      <th>count</th>\n",
       "      <td>3.971700e+04</td>\n",
       "      <td>3.971700e+04</td>\n",
       "      <td>39717.000000</td>\n",
       "      <td>39717.000000</td>\n",
       "      <td>39717.000000</td>\n",
       "      <td>39717.000000</td>\n",
       "      <td>3.971700e+04</td>\n",
       "      <td>39717.000000</td>\n",
       "    </tr>\n",
       "    <tr>\n",
       "      <th>mean</th>\n",
       "      <td>6.831319e+05</td>\n",
       "      <td>8.504636e+05</td>\n",
       "      <td>11219.443815</td>\n",
       "      <td>10947.713196</td>\n",
       "      <td>10397.448868</td>\n",
       "      <td>324.561922</td>\n",
       "      <td>6.896893e+04</td>\n",
       "      <td>13.315130</td>\n",
       "    </tr>\n",
       "    <tr>\n",
       "      <th>std</th>\n",
       "      <td>2.106941e+05</td>\n",
       "      <td>2.656783e+05</td>\n",
       "      <td>7456.670694</td>\n",
       "      <td>7187.238670</td>\n",
       "      <td>7128.450439</td>\n",
       "      <td>208.874874</td>\n",
       "      <td>6.379377e+04</td>\n",
       "      <td>6.678594</td>\n",
       "    </tr>\n",
       "    <tr>\n",
       "      <th>min</th>\n",
       "      <td>5.473400e+04</td>\n",
       "      <td>7.069900e+04</td>\n",
       "      <td>500.000000</td>\n",
       "      <td>500.000000</td>\n",
       "      <td>0.000000</td>\n",
       "      <td>15.690000</td>\n",
       "      <td>4.000000e+03</td>\n",
       "      <td>0.000000</td>\n",
       "    </tr>\n",
       "    <tr>\n",
       "      <th>25%</th>\n",
       "      <td>5.162210e+05</td>\n",
       "      <td>6.667800e+05</td>\n",
       "      <td>5500.000000</td>\n",
       "      <td>5400.000000</td>\n",
       "      <td>5000.000000</td>\n",
       "      <td>167.020000</td>\n",
       "      <td>4.040400e+04</td>\n",
       "      <td>8.170000</td>\n",
       "    </tr>\n",
       "    <tr>\n",
       "      <th>50%</th>\n",
       "      <td>6.656650e+05</td>\n",
       "      <td>8.508120e+05</td>\n",
       "      <td>10000.000000</td>\n",
       "      <td>9600.000000</td>\n",
       "      <td>8975.000000</td>\n",
       "      <td>280.220000</td>\n",
       "      <td>5.900000e+04</td>\n",
       "      <td>13.400000</td>\n",
       "    </tr>\n",
       "    <tr>\n",
       "      <th>75%</th>\n",
       "      <td>8.377550e+05</td>\n",
       "      <td>1.047339e+06</td>\n",
       "      <td>15000.000000</td>\n",
       "      <td>15000.000000</td>\n",
       "      <td>14400.000000</td>\n",
       "      <td>430.780000</td>\n",
       "      <td>8.230000e+04</td>\n",
       "      <td>18.600000</td>\n",
       "    </tr>\n",
       "    <tr>\n",
       "      <th>max</th>\n",
       "      <td>1.077501e+06</td>\n",
       "      <td>1.314167e+06</td>\n",
       "      <td>35000.000000</td>\n",
       "      <td>35000.000000</td>\n",
       "      <td>35000.000000</td>\n",
       "      <td>1305.190000</td>\n",
       "      <td>6.000000e+06</td>\n",
       "      <td>29.990000</td>\n",
       "    </tr>\n",
       "  </tbody>\n",
       "</table>\n",
       "</div>"
      ],
      "text/plain": [
       "                 id     member_id     loan_amnt   funded_amnt  \\\n",
       "count  3.971700e+04  3.971700e+04  39717.000000  39717.000000   \n",
       "mean   6.831319e+05  8.504636e+05  11219.443815  10947.713196   \n",
       "std    2.106941e+05  2.656783e+05   7456.670694   7187.238670   \n",
       "min    5.473400e+04  7.069900e+04    500.000000    500.000000   \n",
       "25%    5.162210e+05  6.667800e+05   5500.000000   5400.000000   \n",
       "50%    6.656650e+05  8.508120e+05  10000.000000   9600.000000   \n",
       "75%    8.377550e+05  1.047339e+06  15000.000000  15000.000000   \n",
       "max    1.077501e+06  1.314167e+06  35000.000000  35000.000000   \n",
       "\n",
       "       funded_amnt_inv   installment    annual_inc           dti  \n",
       "count     39717.000000  39717.000000  3.971700e+04  39717.000000  \n",
       "mean      10397.448868    324.561922  6.896893e+04     13.315130  \n",
       "std        7128.450439    208.874874  6.379377e+04      6.678594  \n",
       "min           0.000000     15.690000  4.000000e+03      0.000000  \n",
       "25%        5000.000000    167.020000  4.040400e+04      8.170000  \n",
       "50%        8975.000000    280.220000  5.900000e+04     13.400000  \n",
       "75%       14400.000000    430.780000  8.230000e+04     18.600000  \n",
       "max       35000.000000   1305.190000  6.000000e+06     29.990000  "
      ]
     },
     "execution_count": 16,
     "metadata": {},
     "output_type": "execute_result"
    }
   ],
   "source": [
    "df.describe()  # Dataset has meaningful data "
   ]
  },
  {
   "cell_type": "code",
   "execution_count": 17,
   "metadata": {},
   "outputs": [
    {
     "name": "stdout",
     "output_type": "stream",
     "text": [
      "<class 'pandas.core.frame.DataFrame'>\n",
      "RangeIndex: 39717 entries, 0 to 39716\n",
      "Data columns (total 18 columns):\n",
      " #   Column               Non-Null Count  Dtype  \n",
      "---  ------               --------------  -----  \n",
      " 0   id                   39717 non-null  int64  \n",
      " 1   member_id            39717 non-null  int64  \n",
      " 2   loan_amnt            39717 non-null  int64  \n",
      " 3   funded_amnt          39717 non-null  int64  \n",
      " 4   funded_amnt_inv      39717 non-null  float64\n",
      " 5   term                 39717 non-null  object \n",
      " 6   int_rate             39717 non-null  object \n",
      " 7   installment          39717 non-null  float64\n",
      " 8   grade                39717 non-null  object \n",
      " 9   sub_grade            39717 non-null  object \n",
      " 10  emp_length           38642 non-null  object \n",
      " 11  home_ownership       39717 non-null  object \n",
      " 12  annual_inc           39717 non-null  float64\n",
      " 13  verification_status  39717 non-null  object \n",
      " 14  loan_status          39717 non-null  object \n",
      " 15  purpose              39717 non-null  object \n",
      " 16  addr_state           39717 non-null  object \n",
      " 17  dti                  39717 non-null  float64\n",
      "dtypes: float64(4), int64(4), object(10)\n",
      "memory usage: 5.5+ MB\n"
     ]
    }
   ],
   "source": [
    "df.info()"
   ]
  },
  {
   "cell_type": "markdown",
   "metadata": {},
   "source": [
    "# Imputing null values"
   ]
  },
  {
   "cell_type": "code",
   "execution_count": 18,
   "metadata": {},
   "outputs": [
    {
     "data": {
      "image/png": "[encoded data removed]",
      "text/plain": [
       "<Figure size 432x288 with 1 Axes>"
      ]
     },
     "metadata": {
      "needs_background": "light"
     },
     "output_type": "display_data"
    },
    {
     "data": {
      "image/png": "[encoded data removed]",
      "text/plain": [
       "<Figure size 432x288 with 1 Axes>"
      ]
     },
     "metadata": {
      "needs_background": "light"
     },
     "output_type": "display_data"
    },
    {
     "data": {
      "image/png": "[encoded data removed]",
      "text/plain": [
       "<Figure size 432x288 with 1 Axes>"
      ]
     },
     "metadata": {
      "needs_background": "light"
     },
     "output_type": "display_data"
    }
   ],
   "source": [
    "sns.histplot(df[\"emp_length\"])\n",
    "plt.xticks(rotation=90)\n",
    "plt.show()\n",
    "#Employee length is imputed with the mode retaining the distribution \n",
    "emp_length = df[\"emp_length\"].fillna(df[\"emp_length\"].mode().iloc[0])\n",
    "sns.histplot(emp_length)\n",
    "plt.xticks(rotation=90)\n",
    "plt.show()\n",
    "\n",
    "#Imputing skewed the dataset, hence removing them to maintain a meaningful dataset\n",
    "#df.drop(df.index[df[\"emp_length\"]], inplace = True)\n",
    "df_cleaned = df.dropna(subset=[\"emp_length\"])\n",
    "sns.histplot(df_cleaned[\"emp_length\"])\n",
    "plt.xticks(rotation=90)\n",
    "plt.show()"
   ]
  },
  {
   "cell_type": "code",
   "execution_count": 19,
   "metadata": {},
   "outputs": [
    {
     "name": "stdout",
     "output_type": "stream",
     "text": [
      "<class 'pandas.core.frame.DataFrame'>\n",
      "Int64Index: 38642 entries, 0 to 39716\n",
      "Data columns (total 18 columns):\n",
      " #   Column               Non-Null Count  Dtype  \n",
      "---  ------               --------------  -----  \n",
      " 0   id                   38642 non-null  int64  \n",
      " 1   member_id            38642 non-null  int64  \n",
      " 2   loan_amnt            38642 non-null  int64  \n",
      " 3   funded_amnt          38642 non-null  int64  \n",
      " 4   funded_amnt_inv      38642 non-null  float64\n",
      " 5   term                 38642 non-null  object \n",
      " 6   int_rate             38642 non-null  object \n",
      " 7   installment          38642 non-null  float64\n",
      " 8   grade                38642 non-null  object \n",
      " 9   sub_grade            38642 non-null  object \n",
      " 10  emp_length           38642 non-null  object \n",
      " 11  home_ownership       38642 non-null  object \n",
      " 12  annual_inc           38642 non-null  float64\n",
      " 13  verification_status  38642 non-null  object \n",
      " 14  loan_status          38642 non-null  object \n",
      " 15  purpose              38642 non-null  object \n",
      " 16  addr_state           38642 non-null  object \n",
      " 17  dti                  38642 non-null  float64\n",
      "dtypes: float64(4), int64(4), object(10)\n",
      "memory usage: 5.6+ MB\n"
     ]
    }
   ],
   "source": [
    "df_cleaned.info()"
   ]
  },
  {
   "cell_type": "markdown",
   "metadata": {},
   "source": [
    "# Identify Variable of purpose"
   ]
  },
  {
   "cell_type": "code",
   "execution_count": 20,
   "metadata": {},
   "outputs": [
    {
     "data": {
      "text/plain": [
       "10+ years    8879\n",
       "< 1 year     4583\n",
       "2 years      4388\n",
       "3 years      4095\n",
       "4 years      3436\n",
       "5 years      3282\n",
       "1 year       3240\n",
       "6 years      2229\n",
       "7 years      1773\n",
       "8 years      1479\n",
       "9 years      1258\n",
       "Name: emp_length, dtype: int64"
      ]
     },
     "execution_count": 20,
     "metadata": {},
     "output_type": "execute_result"
    }
   ],
   "source": [
    "df_cleaned[\"emp_length\"].value_counts()"
   ]
  },
  {
   "cell_type": "markdown",
   "metadata": {},
   "source": [
    "Consider only charged and fully paid customers for analysis"
   ]
  },
  {
   "cell_type": "code",
   "execution_count": 21,
   "metadata": {},
   "outputs": [
    {
     "data": {
      "text/plain": [
       "Fully Paid     32145\n",
       "Charged Off     5399\n",
       "Current         1098\n",
       "Name: loan_status, dtype: int64"
      ]
     },
     "execution_count": 21,
     "metadata": {},
     "output_type": "execute_result"
    }
   ],
   "source": [
    "#distribution of status value\n",
    "df_cleaned[\"loan_status\"].value_counts()"
   ]
  },
  {
   "cell_type": "markdown",
   "metadata": {},
   "source": [
    "loan amount, funded amount, funding amount investment -\n",
    "1 - Amount requested by the borrower\n",
    "2 - Amount approved by the agency\n",
    "3 - Amount funded by investors\n",
    "\n",
    "location - higher cost of living higher risk\n",
    "\n",
    "stacked bar chart - multivariae analysis\n",
    "write the recommendation must\n",
    "grade & subgrade - risk analytics - google and find"
   ]
  },
  {
   "cell_type": "code",
   "execution_count": 22,
   "metadata": {},
   "outputs": [],
   "source": [
    "#Current user data not helping in identifying risk factors, hence dropping them\n",
    "df_cleaned.drop(df_cleaned.index[df_cleaned[\"loan_status\"] == \"Current\"], inplace = True)"
   ]
  },
  {
   "cell_type": "code",
   "execution_count": 23,
   "metadata": {},
   "outputs": [
    {
     "data": {
      "text/plain": [
       "Fully Paid     32145\n",
       "Charged Off     5399\n",
       "Name: loan_status, dtype: int64"
      ]
     },
     "execution_count": 23,
     "metadata": {},
     "output_type": "execute_result"
    }
   ],
   "source": [
    "df_cleaned[\"loan_status\"].value_counts()"
   ]
  },
  {
   "cell_type": "code",
   "execution_count": 24,
   "metadata": {},
   "outputs": [
    {
     "data": {
      "text/plain": [
       "Index(['id', 'member_id', 'loan_amnt', 'funded_amnt', 'funded_amnt_inv',\n",
       "       'term', 'int_rate', 'installment', 'grade', 'sub_grade', 'emp_length',\n",
       "       'home_ownership', 'annual_inc', 'verification_status', 'loan_status',\n",
       "       'purpose', 'addr_state', 'dti'],\n",
       "      dtype='object')"
      ]
     },
     "execution_count": 24,
     "metadata": {},
     "output_type": "execute_result"
    }
   ],
   "source": [
    "df_cleaned.columns"
   ]
  },
  {
   "cell_type": "markdown",
   "metadata": {},
   "source": [
    "# Treating outliers"
   ]
  },
  {
   "cell_type": "code",
   "execution_count": 25,
   "metadata": {},
   "outputs": [
    {
     "data": {
      "image/png": "[encoded data removed]",
      "text/plain": [
       "<Figure size 432x288 with 1 Axes>"
      ]
     },
     "metadata": {
      "needs_background": "light"
     },
     "output_type": "display_data"
    },
    {
     "data": {
      "image/png": "[encoded data removed]",
      "text/plain": [
       "<Figure size 432x288 with 1 Axes>"
      ]
     },
     "metadata": {
      "needs_background": "light"
     },
     "output_type": "display_data"
    }
   ],
   "source": [
    "def remove_outlier_IQR(df):\n",
    "    Q1=df.quantile(0.25)\n",
    "    Q3=df.quantile(0.75)\n",
    "    IQR=Q3-Q1\n",
    "    df_final=df[~((df<(Q1-1.5*IQR)) | (df>(Q3+1.5*IQR)))]\n",
    "    return df_final\n",
    "\n",
    "df_outlier_rem = remove_outlier_IQR(df_cleaned[\"annual_inc\"])\n",
    "df_outlier_removed=pd.DataFrame(df_outlier_rem)\n",
    "ind_diff=df_cleaned.index.difference(df_outlier_removed.index)\n",
    "\n",
    "for i in range(0, len(ind_diff),1):\n",
    "    df_final=df_cleaned.drop([ind_diff[i]])\n",
    "    df_cleaned=df_final\n",
    "\n",
    "df_outlier_rem = remove_outlier_IQR(df_cleaned[\"loan_amnt\"])\n",
    "df_outlier_removed=pd.DataFrame(df_outlier_rem)\n",
    "ind_diff=df_cleaned.index.difference(df_outlier_removed.index)\n",
    "\n",
    "for i in range(0, len(ind_diff),1):\n",
    "    df_final=df_cleaned.drop([ind_diff[i]])\n",
    "    df_cleaned=df_final\n",
    "\n",
    "sns.boxplot(x=df_cleaned[\"annual_inc\"])\n",
    "plt.show()\n",
    "\n",
    "sns.boxplot(x=df_cleaned[\"loan_amnt\"])\n",
    "plt.show()"
   ]
  },
  {
   "cell_type": "markdown",
   "metadata": {},
   "source": [
    "# EDA"
   ]
  },
  {
   "cell_type": "code",
   "execution_count": 26,
   "metadata": {},
   "outputs": [],
   "source": [
    "#Identify categorical & continuous columns\n",
    "cat_cols = [\"term\",\"grade\",\"sub_grade\",\"emp_length\",\"home_ownership\",\"verification_status\",\"loan_status\",\n",
    "           \"purpose\",\"addr_state\",\"pub_rec_bankruptcies\"]\n",
    "cont_cols = [\"id\", \"member_id\", \"loan_amnt\", \"funded_amnt\", \"funded_amnt_inv\",\n",
    "            \"int_rate\",\"installment\", \"annual_inc\",\"dti\"]"
   ]
  },
  {
   "cell_type": "code",
   "execution_count": 27,
   "metadata": {},
   "outputs": [
    {
     "data": {
      "text/plain": [
       "0.00     160\n",
       "18.00     42\n",
       "19.20     39\n",
       "12.00     39\n",
       "13.20     37\n",
       "        ... \n",
       "27.77      1\n",
       "27.63      1\n",
       "26.33      1\n",
       "28.88      1\n",
       "25.43      1\n",
       "Name: dti, Length: 2839, dtype: int64"
      ]
     },
     "execution_count": 27,
     "metadata": {},
     "output_type": "execute_result"
    }
   ],
   "source": [
    "df_cleaned[\"dti\"].value_counts()"
   ]
  },
  {
   "cell_type": "code",
   "execution_count": 28,
   "metadata": {},
   "outputs": [
    {
     "data": {
      "image/png": "[encoded data removed]",
      "text/plain": [
       "<Figure size 432x288 with 1 Axes>"
      ]
     },
     "metadata": {
      "needs_background": "light"
     },
     "output_type": "display_data"
    }
   ],
   "source": [
    "#identify distribution of loan amount\n",
    "sns.distplot(df_cleaned[\"loan_amnt\"])\n",
    "plt.title(\"Distribution of loan amount\")\n",
    "plt.show()"
   ]
  },
  {
   "cell_type": "code",
   "execution_count": 29,
   "metadata": {},
   "outputs": [
    {
     "data": {
      "text/plain": [
       "<AxesSubplot:xlabel='loan_status', ylabel='count'>"
      ]
     },
     "execution_count": 29,
     "metadata": {},
     "output_type": "execute_result"
    },
    {
     "data": {
      "image/png": "[encoded data removed]",
      "text/plain": [
       "<Figure size 432x288 with 1 Axes>"
      ]
     },
     "metadata": {
      "needs_background": "light"
     },
     "output_type": "display_data"
    }
   ],
   "source": [
    "sns.countplot(df_cleaned[\"loan_status\"])\n",
    "#only 20% of the people are charged off"
   ]
  },
  {
   "cell_type": "code",
   "execution_count": 30,
   "metadata": {},
   "outputs": [
    {
     "name": "stdout",
     "output_type": "stream",
     "text": [
      "0.05     2400.0\n",
      "0.25     5000.0\n",
      "0.50     9000.0\n",
      "0.75    14400.0\n",
      "1.00    29850.0\n",
      "Name: loan_amnt, dtype: float64\n"
     ]
    },
    {
     "data": {
      "image/png": "[encoded data removed]",
      "text/plain": [
       "<Figure size 432x288 with 1 Axes>"
      ]
     },
     "metadata": {
      "needs_background": "light"
     },
     "output_type": "display_data"
    }
   ],
   "source": [
    "sns.boxplot(x=df_cleaned[\"annual_inc\"])\n",
    "#annual income has outliers to be treated\n",
    "\n",
    "print(df_cleaned[\"loan_amnt\"].quantile([0.05,0.25,0.5,0.75,1]))"
   ]
  },
  {
   "cell_type": "code",
   "execution_count": 31,
   "metadata": {},
   "outputs": [
    {
     "data": {
      "image/png": "[encoded data removed]",
      "text/plain": [
       "<Figure size 432x288 with 1 Axes>"
      ]
     },
     "metadata": {
      "needs_background": "light"
     },
     "output_type": "display_data"
    },
    {
     "name": "stdout",
     "output_type": "stream",
     "text": [
      "0.05     2400.0\n",
      "0.25     5000.0\n",
      "0.50     9000.0\n",
      "0.75    14400.0\n",
      "1.00    29850.0\n",
      "Name: loan_amnt, dtype: float64\n"
     ]
    }
   ],
   "source": [
    "sns.boxplot(x=df_cleaned[\"loan_amnt\"])\n",
    "plt.show()\n",
    "\n",
    "print(df_cleaned[\"loan_amnt\"].quantile([0.05,0.25,0.5,0.75,1]))"
   ]
  },
  {
   "cell_type": "code",
   "execution_count": 32,
   "metadata": {},
   "outputs": [
    {
     "data": {
      "text/plain": [
       "<AxesSubplot:xlabel='loan_status', ylabel='loan_amnt'>"
      ]
     },
     "execution_count": 32,
     "metadata": {},
     "output_type": "execute_result"
    },
    {
     "data": {
      "image/png": "[encoded data removed]",
      "text/plain": [
       "<Figure size 432x288 with 1 Axes>"
      ]
     },
     "metadata": {
      "needs_background": "light"
     },
     "output_type": "display_data"
    }
   ],
   "source": [
    "sns.barplot(x=df_cleaned[\"loan_status\"], y=df_cleaned[\"loan_amnt\"])\n",
    "#Recommendation: Higher values of loan amount requested are likely to be charged off"
   ]
  },
  {
   "cell_type": "code",
   "execution_count": 33,
   "metadata": {},
   "outputs": [
    {
     "data": {
      "image/png": "[encoded data removed]",
      "text/plain": [
       "<Figure size 432x288 with 1 Axes>"
      ]
     },
     "metadata": {
      "needs_background": "light"
     },
     "output_type": "display_data"
    }
   ],
   "source": [
    "sns.countplot(x=df_cleaned[\"loan_status\"], hue=df_cleaned[\"emp_length\"])\n",
    "plt.title(\"Loan status of employers associated with an organization\")\n",
    "plt.show()\n",
    "#Employees associated with an employer for very less time charged off more likely\n",
    "#Employees associated with 10+ years are more likely to pay off the loan"
   ]
  },
  {
   "cell_type": "code",
   "execution_count": 34,
   "metadata": {},
   "outputs": [
    {
     "data": {
      "text/plain": [
       "<AxesSubplot:xlabel='loan_status', ylabel='funded_amnt'>"
      ]
     },
     "execution_count": 34,
     "metadata": {},
     "output_type": "execute_result"
    },
    {
     "data": {
      "image/png": "[encoded data removed]",
      "text/plain": [
       "<Figure size 432x288 with 1 Axes>"
      ]
     },
     "metadata": {
      "needs_background": "light"
     },
     "output_type": "display_data"
    }
   ],
   "source": [
    "sns.barplot(x=df_cleaned[\"loan_status\"], y=df_cleaned[\"funded_amnt\"])\n",
    "#Higher the funded amount, more likely to be charged off"
   ]
  },
  {
   "cell_type": "code",
   "execution_count": 35,
   "metadata": {},
   "outputs": [
    {
     "data": {
      "text/plain": [
       "<AxesSubplot:xlabel='emp_length,loan_status'>"
      ]
     },
     "execution_count": 35,
     "metadata": {},
     "output_type": "execute_result"
    },
    {
     "data": {
      "image/png": "[encoded data removed]",
      "text/plain": [
       "<Figure size 432x288 with 1 Axes>"
      ]
     },
     "metadata": {
      "needs_background": "light"
     },
     "output_type": "display_data"
    }
   ],
   "source": [
    "#Funding processed to people with more than 10+ years are paying the loan fully\n",
    "df_cleaned.groupby([\"emp_length\",\"loan_status\"])[\"funded_amnt\"].count().plot.bar\n",
    "(color=plt.cm.Paired(np.arange(len(df)))) "
   ]
  },
  {
   "cell_type": "code",
   "execution_count": 36,
   "metadata": {},
   "outputs": [
    {
     "data": {
      "text/plain": [
       "<AxesSubplot:xlabel='loan_amnt', ylabel='funded_amnt'>"
      ]
     },
     "execution_count": 36,
     "metadata": {},
     "output_type": "execute_result"
    },
    {
     "data": {
      "image/png": "[encoded data removed]",
      "text/plain": [
       "<Figure size 432x288 with 1 Axes>"
      ]
     },
     "metadata": {
      "needs_background": "light"
     },
     "output_type": "display_data"
    }
   ],
   "source": [
    "sns.scatterplot(x=df_cleaned[\"loan_amnt\"], y=df_cleaned[\"funded_amnt\"]) #"
   ]
  },
  {
   "cell_type": "code",
   "execution_count": 37,
   "metadata": {},
   "outputs": [
    {
     "data": {
      "text/plain": [
       "<AxesSubplot:>"
      ]
     },
     "execution_count": 37,
     "metadata": {},
     "output_type": "execute_result"
    },
    {
     "data": {
      "image/png": "[encoded data removed]",
      "text/plain": [
       "<Figure size 432x288 with 1 Axes>"
      ]
     },
     "metadata": {
      "needs_background": "light"
     },
     "output_type": "display_data"
    }
   ],
   "source": [
    "df_cleaned.plot(kind='bar', stacked=True, color=['red', 'pink'])"
   ]
  },
  {
   "cell_type": "code",
   "execution_count": 38,
   "metadata": {},
   "outputs": [
    {
     "data": {
      "text/plain": [
       "<AxesSubplot:xlabel='loan_status', ylabel='count'>"
      ]
     },
     "execution_count": 38,
     "metadata": {},
     "output_type": "execute_result"
    },
    {
     "data": {
      "image/png": "[encoded data removed]",
      "text/plain": [
       "<Figure size 432x288 with 1 Axes>"
      ]
     },
     "metadata": {
      "needs_background": "light"
     },
     "output_type": "display_data"
    }
   ],
   "source": [
    "sns.countplot(x=df_cleaned[\"loan_status\"], hue=df_cleaned[\"term\"])"
   ]
  },
  {
   "cell_type": "code",
   "execution_count": 51,
   "metadata": {},
   "outputs": [
    {
     "data": {
      "text/plain": [
       "<AxesSubplot:xlabel='loan_status,term,grade'>"
      ]
     },
     "execution_count": 51,
     "metadata": {},
     "output_type": "execute_result"
    },
    {
     "data": {
      "image/png": "[encoded data removed]",
      "text/plain": [
       "<Figure size 432x288 with 1 Axes>"
      ]
     },
     "metadata": {
      "needs_background": "light"
     },
     "output_type": "display_data"
    }
   ],
   "source": [
    "df_cleaned.groupby([\"loan_status\",\"term\",\"grade\"])[\"loan_amnt\"].count().plot.bar()"
   ]
  },
  {
   "cell_type": "code",
   "execution_count": 52,
   "metadata": {},
   "outputs": [
    {
     "data": {
      "text/html": [
       "<div>\n",
       "<style scoped>\n",
       "    .dataframe tbody tr th:only-of-type {\n",
       "        vertical-align: middle;\n",
       "    }\n",
       "\n",
       "    .dataframe tbody tr th {\n",
       "        vertical-align: top;\n",
       "    }\n",
       "\n",
       "    .dataframe thead th {\n",
       "        text-align: right;\n",
       "    }\n",
       "</style>\n",
       "<table border=\"1\" class=\"dataframe\">\n",
       "  <thead>\n",
       "    <tr style=\"text-align: right;\">\n",
       "      <th></th>\n",
       "      <th>loan_status</th>\n",
       "      <th>term</th>\n",
       "      <th>grade</th>\n",
       "      <th>loan_amnt</th>\n",
       "    </tr>\n",
       "  </thead>\n",
       "  <tbody>\n",
       "    <tr>\n",
       "      <th>0</th>\n",
       "      <td>Charged Off</td>\n",
       "      <td>36 months</td>\n",
       "      <td>A</td>\n",
       "      <td>513</td>\n",
       "    </tr>\n",
       "    <tr>\n",
       "      <th>1</th>\n",
       "      <td>Charged Off</td>\n",
       "      <td>36 months</td>\n",
       "      <td>B</td>\n",
       "      <td>895</td>\n",
       "    </tr>\n",
       "    <tr>\n",
       "      <th>2</th>\n",
       "      <td>Charged Off</td>\n",
       "      <td>36 months</td>\n",
       "      <td>C</td>\n",
       "      <td>788</td>\n",
       "    </tr>\n",
       "    <tr>\n",
       "      <th>3</th>\n",
       "      <td>Charged Off</td>\n",
       "      <td>36 months</td>\n",
       "      <td>D</td>\n",
       "      <td>539</td>\n",
       "    </tr>\n",
       "    <tr>\n",
       "      <th>4</th>\n",
       "      <td>Charged Off</td>\n",
       "      <td>36 months</td>\n",
       "      <td>E</td>\n",
       "      <td>151</td>\n",
       "    </tr>\n",
       "    <tr>\n",
       "      <th>5</th>\n",
       "      <td>Charged Off</td>\n",
       "      <td>36 months</td>\n",
       "      <td>F</td>\n",
       "      <td>44</td>\n",
       "    </tr>\n",
       "    <tr>\n",
       "      <th>6</th>\n",
       "      <td>Charged Off</td>\n",
       "      <td>36 months</td>\n",
       "      <td>G</td>\n",
       "      <td>18</td>\n",
       "    </tr>\n",
       "    <tr>\n",
       "      <th>7</th>\n",
       "      <td>Charged Off</td>\n",
       "      <td>60 months</td>\n",
       "      <td>A</td>\n",
       "      <td>35</td>\n",
       "    </tr>\n",
       "    <tr>\n",
       "      <th>8</th>\n",
       "      <td>Charged Off</td>\n",
       "      <td>60 months</td>\n",
       "      <td>B</td>\n",
       "      <td>390</td>\n",
       "    </tr>\n",
       "    <tr>\n",
       "      <th>9</th>\n",
       "      <td>Charged Off</td>\n",
       "      <td>60 months</td>\n",
       "      <td>C</td>\n",
       "      <td>445</td>\n",
       "    </tr>\n",
       "    <tr>\n",
       "      <th>10</th>\n",
       "      <td>Charged Off</td>\n",
       "      <td>60 months</td>\n",
       "      <td>D</td>\n",
       "      <td>478</td>\n",
       "    </tr>\n",
       "    <tr>\n",
       "      <th>11</th>\n",
       "      <td>Charged Off</td>\n",
       "      <td>60 months</td>\n",
       "      <td>E</td>\n",
       "      <td>435</td>\n",
       "    </tr>\n",
       "    <tr>\n",
       "      <th>12</th>\n",
       "      <td>Charged Off</td>\n",
       "      <td>60 months</td>\n",
       "      <td>F</td>\n",
       "      <td>204</td>\n",
       "    </tr>\n",
       "    <tr>\n",
       "      <th>13</th>\n",
       "      <td>Charged Off</td>\n",
       "      <td>60 months</td>\n",
       "      <td>G</td>\n",
       "      <td>63</td>\n",
       "    </tr>\n",
       "    <tr>\n",
       "      <th>14</th>\n",
       "      <td>Fully Paid</td>\n",
       "      <td>36 months</td>\n",
       "      <td>A</td>\n",
       "      <td>8368</td>\n",
       "    </tr>\n",
       "    <tr>\n",
       "      <th>15</th>\n",
       "      <td>Fully Paid</td>\n",
       "      <td>36 months</td>\n",
       "      <td>B</td>\n",
       "      <td>7721</td>\n",
       "    </tr>\n",
       "    <tr>\n",
       "      <th>16</th>\n",
       "      <td>Fully Paid</td>\n",
       "      <td>36 months</td>\n",
       "      <td>C</td>\n",
       "      <td>4593</td>\n",
       "    </tr>\n",
       "    <tr>\n",
       "      <th>17</th>\n",
       "      <td>Fully Paid</td>\n",
       "      <td>36 months</td>\n",
       "      <td>D</td>\n",
       "      <td>2436</td>\n",
       "    </tr>\n",
       "    <tr>\n",
       "      <th>18</th>\n",
       "      <td>Fully Paid</td>\n",
       "      <td>36 months</td>\n",
       "      <td>E</td>\n",
       "      <td>621</td>\n",
       "    </tr>\n",
       "    <tr>\n",
       "      <th>19</th>\n",
       "      <td>Fully Paid</td>\n",
       "      <td>36 months</td>\n",
       "      <td>F</td>\n",
       "      <td>139</td>\n",
       "    </tr>\n",
       "    <tr>\n",
       "      <th>20</th>\n",
       "      <td>Fully Paid</td>\n",
       "      <td>36 months</td>\n",
       "      <td>G</td>\n",
       "      <td>31</td>\n",
       "    </tr>\n",
       "    <tr>\n",
       "      <th>21</th>\n",
       "      <td>Fully Paid</td>\n",
       "      <td>60 months</td>\n",
       "      <td>A</td>\n",
       "      <td>338</td>\n",
       "    </tr>\n",
       "    <tr>\n",
       "      <th>22</th>\n",
       "      <td>Fully Paid</td>\n",
       "      <td>60 months</td>\n",
       "      <td>B</td>\n",
       "      <td>1681</td>\n",
       "    </tr>\n",
       "    <tr>\n",
       "      <th>23</th>\n",
       "      <td>Fully Paid</td>\n",
       "      <td>60 months</td>\n",
       "      <td>C</td>\n",
       "      <td>1384</td>\n",
       "    </tr>\n",
       "    <tr>\n",
       "      <th>24</th>\n",
       "      <td>Fully Paid</td>\n",
       "      <td>60 months</td>\n",
       "      <td>D</td>\n",
       "      <td>1181</td>\n",
       "    </tr>\n",
       "    <tr>\n",
       "      <th>25</th>\n",
       "      <td>Fully Paid</td>\n",
       "      <td>60 months</td>\n",
       "      <td>E</td>\n",
       "      <td>1003</td>\n",
       "    </tr>\n",
       "    <tr>\n",
       "      <th>26</th>\n",
       "      <td>Fully Paid</td>\n",
       "      <td>60 months</td>\n",
       "      <td>F</td>\n",
       "      <td>394</td>\n",
       "    </tr>\n",
       "    <tr>\n",
       "      <th>27</th>\n",
       "      <td>Fully Paid</td>\n",
       "      <td>60 months</td>\n",
       "      <td>G</td>\n",
       "      <td>117</td>\n",
       "    </tr>\n",
       "  </tbody>\n",
       "</table>\n",
       "</div>"
      ],
      "text/plain": [
       "    loan_status        term grade  loan_amnt\n",
       "0   Charged Off   36 months     A        513\n",
       "1   Charged Off   36 months     B        895\n",
       "2   Charged Off   36 months     C        788\n",
       "3   Charged Off   36 months     D        539\n",
       "4   Charged Off   36 months     E        151\n",
       "5   Charged Off   36 months     F         44\n",
       "6   Charged Off   36 months     G         18\n",
       "7   Charged Off   60 months     A         35\n",
       "8   Charged Off   60 months     B        390\n",
       "9   Charged Off   60 months     C        445\n",
       "10  Charged Off   60 months     D        478\n",
       "11  Charged Off   60 months     E        435\n",
       "12  Charged Off   60 months     F        204\n",
       "13  Charged Off   60 months     G         63\n",
       "14   Fully Paid   36 months     A       8368\n",
       "15   Fully Paid   36 months     B       7721\n",
       "16   Fully Paid   36 months     C       4593\n",
       "17   Fully Paid   36 months     D       2436\n",
       "18   Fully Paid   36 months     E        621\n",
       "19   Fully Paid   36 months     F        139\n",
       "20   Fully Paid   36 months     G         31\n",
       "21   Fully Paid   60 months     A        338\n",
       "22   Fully Paid   60 months     B       1681\n",
       "23   Fully Paid   60 months     C       1384\n",
       "24   Fully Paid   60 months     D       1181\n",
       "25   Fully Paid   60 months     E       1003\n",
       "26   Fully Paid   60 months     F        394\n",
       "27   Fully Paid   60 months     G        117"
      ]
     },
     "execution_count": 52,
     "metadata": {},
     "output_type": "execute_result"
    }
   ],
   "source": [
    "df_cleaned.groupby([\"loan_status\",\"term\",\"grade\"])[\"loan_amnt\"].count().reset_index()"
   ]
  },
  {
   "cell_type": "code",
   "execution_count": 42,
   "metadata": {},
   "outputs": [
    {
     "data": {
      "text/plain": [
       "<AxesSubplot:xlabel='loan_status', ylabel='loan_amnt'>"
      ]
     },
     "execution_count": 42,
     "metadata": {},
     "output_type": "execute_result"
    },
    {
     "data": {
      "image/png": "[encoded data removed]",
      "text/plain": [
       "<Figure size 432x288 with 1 Axes>"
      ]
     },
     "metadata": {
      "needs_background": "light"
     },
     "output_type": "display_data"
    }
   ],
   "source": [
    "sns.boxplot(x=df_cleaned[\"loan_status\"], y=df_cleaned[\"loan_amnt\"],\n",
    "            hue=df_cleaned[\"term\"])"
   ]
  },
  {
   "cell_type": "code",
   "execution_count": 59,
   "metadata": {},
   "outputs": [
    {
     "data": {
      "image/png": "[encoded data removed]",
      "text/plain": [
       "<Figure size 1440x432 with 1 Axes>"
      ]
     },
     "metadata": {
      "needs_background": "light"
     },
     "output_type": "display_data"
    }
   ],
   "source": [
    "plt.figure(figsize=(20,6))\n",
    "sns.countplot(hue=df_cleaned[\"loan_status\"],x=df_cleaned[\"addr_state\"])\n",
    "plt.xticks(rotation=90)\n",
    "plt.show()\n",
    "#"
   ]
  },
  {
   "cell_type": "code",
   "execution_count": 99,
   "metadata": {},
   "outputs": [
    {
     "data": {
      "image/png": "[encoded data removed]",
      "text/plain": [
       "<Figure size 432x288 with 1 Axes>"
      ]
     },
     "metadata": {
      "needs_background": "light"
     },
     "output_type": "display_data"
    },
    {
     "data": {
      "text/plain": [
       "grade  loan_status\n",
       "A      Charged Off     548\n",
       "       Fully Paid     8706\n",
       "B      Charged Off    1285\n",
       "       Fully Paid     9402\n",
       "C      Charged Off    1233\n",
       "       Fully Paid     5977\n",
       "D      Charged Off    1017\n",
       "       Fully Paid     3617\n",
       "E      Charged Off     586\n",
       "       Fully Paid     1624\n",
       "F      Charged Off     248\n",
       "       Fully Paid      533\n",
       "G      Charged Off      81\n",
       "       Fully Paid      148\n",
       "Name: loan_status, dtype: int64"
      ]
     },
     "execution_count": 99,
     "metadata": {},
     "output_type": "execute_result"
    }
   ],
   "source": [
    "sns.countplot(hue=df_cleaned[\"loan_status\"],x=df_cleaned[\"grade\"])\n",
    "plt.show()\n",
    "\n",
    "#Grades A,B & C more than 50% fully paid, whereas D,E & F has higher risk of not paying\n",
    "\n",
    "df_cleaned.groupby([\"grade\",\"loan_status\"])[\"loan_status\"].count()"
   ]
  },
  {
   "cell_type": "code",
   "execution_count": 103,
   "metadata": {},
   "outputs": [
    {
     "data": {
      "image/png": "[encoded data removed]",
      "text/plain": [
       "<Figure size 1440x432 with 1 Axes>"
      ]
     },
     "metadata": {
      "needs_background": "light"
     },
     "output_type": "display_data"
    }
   ],
   "source": [
    "plt.figure(figsize=(20,6))\n",
    "sns.histplot(hue=df_cleaned[\"loan_status\"],x=df_cleaned[\"sub_grade\"])\n",
    "plt.show()\n",
    "\n",
    "#Lender with Sub grade A4 paid the loan fully. A4 is recommended.\n",
    "#B5 defaults in grade B\n",
    "#E4,D3,D4,F3,E3,F2,D5,F1,E5,G4,E2,G2,G1,F5,F4,"
   ]
  },
  {
   "cell_type": "code",
   "execution_count": 107,
   "metadata": {},
   "outputs": [
    {
     "data": {
      "text/plain": [
       "<AxesSubplot:xlabel='verification_status', ylabel='count'>"
      ]
     },
     "execution_count": 107,
     "metadata": {},
     "output_type": "execute_result"
    },
    {
     "data": {
      "image/png": "[encoded data removed]",
      "text/plain": [
       "<Figure size 432x288 with 1 Axes>"
      ]
     },
     "metadata": {
      "needs_background": "light"
     },
     "output_type": "display_data"
    }
   ],
   "source": [
    "#          \"purpose\",\"addr_state\",\"pub_rec_bankruptcies\"]\n",
    "sns.countplot(hue=df_cleaned[\"loan_status\"],x=df_cleaned[\"verification_status\"])\n",
    "#Verified & source verified charged off\n",
    "#Even not vrified customers tend to fuly pay the loan.\n"
   ]
  },
  {
   "cell_type": "code",
   "execution_count": 102,
   "metadata": {},
   "outputs": [
    {
     "data": {
      "text/plain": [
       "home_ownership  loan_status\n",
       "MORTGAGE        Charged Off     1993\n",
       "                Fully Paid     12860\n",
       "NONE            Fully Paid         3\n",
       "OTHER           Charged Off       17\n",
       "                Fully Paid        76\n",
       "OWN             Charged Off      379\n",
       "                Fully Paid      2235\n",
       "RENT            Charged Off     2609\n",
       "                Fully Paid     14833\n",
       "Name: loan_status, dtype: int64"
      ]
     },
     "execution_count": 102,
     "metadata": {},
     "output_type": "execute_result"
    },
    {
     "data": {
      "image/png": "[encoded data removed]",
      "text/plain": [
       "<Figure size 432x288 with 1 Axes>"
      ]
     },
     "metadata": {
      "needs_background": "light"
     },
     "output_type": "display_data"
    }
   ],
   "source": [
    "sns.countplot(hue=df_cleaned[\"loan_status\"],x=df_cleaned[\"home_ownership\"])\n",
    "df_cleaned.groupby([\"home_ownership\",\"loan_status\"],sort=True)[\"loan_status\"].count()\n",
    "#Mortgage & rent highly pay off the loan, Lenders who own house tend to default less"
   ]
  },
  {
   "cell_type": "code",
   "execution_count": 111,
   "metadata": {},
   "outputs": [
    {
     "data": {
      "text/plain": [
       "(array([ 0,  1,  2,  3,  4,  5,  6,  7,  8,  9, 10, 11, 12, 13]),\n",
       " [Text(0, 0, 'credit_card'),\n",
       "  Text(1, 0, 'car'),\n",
       "  Text(2, 0, 'small_business'),\n",
       "  Text(3, 0, 'other'),\n",
       "  Text(4, 0, 'wedding'),\n",
       "  Text(5, 0, 'debt_consolidation'),\n",
       "  Text(6, 0, 'home_improvement'),\n",
       "  Text(7, 0, 'major_purchase'),\n",
       "  Text(8, 0, 'medical'),\n",
       "  Text(9, 0, 'moving'),\n",
       "  Text(10, 0, 'vacation'),\n",
       "  Text(11, 0, 'house'),\n",
       "  Text(12, 0, 'renewable_energy'),\n",
       "  Text(13, 0, 'educational')])"
      ]
     },
     "execution_count": 111,
     "metadata": {},
     "output_type": "execute_result"
    },
    {
     "data": {
      "image/png": "[encoded data removed]",
      "text/plain": [
       "<Figure size 432x288 with 1 Axes>"
      ]
     },
     "metadata": {
      "needs_background": "light"
     },
     "output_type": "display_data"
    }
   ],
   "source": [
    "df_cleaned.groupby([\"purpose\",\"loan_status\"],sort=True)[\"loan_status\"].count()\n",
    "sns.countplot(hue=df_cleaned[\"loan_status\"],x=df_cleaned[\"purpose\"])\n",
    "plt.xticks(rotation = 90)"
   ]
  },
  {
   "cell_type": "code",
   "execution_count": null,
   "metadata": {},
   "outputs": [],
   "source": []
  }
 ],
 "metadata": {
  "kernelspec": {
   "display_name": "Python 3 (ipykernel)",
   "language": "python",
   "name": "python3"
  },
  "language_info": {
   "codemirror_mode": {
    "name": "ipython",
    "version": 3
   },
   "file_extension": ".py",
   "mimetype": "text/x-python",
   "name": "python",
   "nbconvert_exporter": "python",
   "pygments_lexer": "ipython3",
   "version": "3.9.12"
  }
 },
 "nbformat": 4,
 "nbformat_minor": 1
}
